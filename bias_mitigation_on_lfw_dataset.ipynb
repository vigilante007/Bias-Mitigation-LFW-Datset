{
  "nbformat": 4,
  "nbformat_minor": 0,
  "metadata": {
    "colab": {
      "name": "DAI_Assignment_1_Q4.ipynb",
      "provenance": []
    },
    "kernelspec": {
      "name": "python3",
      "display_name": "Python 3"
    }
  },
  "cells": [
    {
      "cell_type": "code",
      "metadata": {
        "id": "k_scM573A8tZ"
      },
      "source": [
        "import numpy as np\n",
        "import pandas as pd \n",
        "from matplotlib import pyplot as plt\n",
        "from sklearn.metrics import accuracy_score,confusion_matrix\n",
        "import tensorflow as tf\n",
        "from tensorflow import keras\n",
        "import cv2 \n",
        "import os\n",
        "import pickle\n",
        "import collections\n",
        "import seaborn as sns\n",
        "from sklearn import model_selection\n",
        "import re\n",
        "from mlxtend.evaluate import bias_variance_decomp\n",
        "import sys"
      ],
      "execution_count": null,
      "outputs": []
    },
    {
      "cell_type": "code",
      "metadata": {
        "id": "ylKe5FR3AeZs"
      },
      "source": [
        "data = pd.read_csv('/content/drive/MyDrive/lfw_attributes.csv', sep=\",\")"
      ],
      "execution_count": null,
      "outputs": []
    },
    {
      "cell_type": "code",
      "metadata": {
        "colab": {
          "base_uri": "https://localhost:8080/",
          "height": 660
        },
        "id": "psoPLafxQ8Xw",
        "outputId": "5425c2d5-ed27-4a3b-b0d3-6ccf7bc02202"
      },
      "source": [
        "data"
      ],
      "execution_count": null,
      "outputs": [
        {
          "output_type": "execute_result",
          "data": {
            "text/html": [
              "<div>\n",
              "<style scoped>\n",
              "    .dataframe tbody tr th:only-of-type {\n",
              "        vertical-align: middle;\n",
              "    }\n",
              "\n",
              "    .dataframe tbody tr th {\n",
              "        vertical-align: top;\n",
              "    }\n",
              "\n",
              "    .dataframe thead th {\n",
              "        text-align: right;\n",
              "    }\n",
              "</style>\n",
              "<table border=\"1\" class=\"dataframe\">\n",
              "  <thead>\n",
              "    <tr style=\"text-align: right;\">\n",
              "      <th></th>\n",
              "      <th>person</th>\n",
              "      <th>imagenum</th>\n",
              "      <th>Male</th>\n",
              "      <th>Asian</th>\n",
              "      <th>White</th>\n",
              "      <th>Black</th>\n",
              "      <th>Baby</th>\n",
              "      <th>Child</th>\n",
              "      <th>Youth</th>\n",
              "      <th>Middle Aged</th>\n",
              "      <th>Senior</th>\n",
              "      <th>Black Hair</th>\n",
              "      <th>Blond Hair</th>\n",
              "      <th>Brown Hair</th>\n",
              "      <th>Bald</th>\n",
              "      <th>No Eyewear</th>\n",
              "      <th>Eyeglasses</th>\n",
              "      <th>Sunglasses</th>\n",
              "      <th>Mustache</th>\n",
              "      <th>Smiling</th>\n",
              "      <th>Frowning</th>\n",
              "      <th>Chubby</th>\n",
              "      <th>Blurry</th>\n",
              "      <th>Harsh Lighting</th>\n",
              "      <th>Flash</th>\n",
              "      <th>Soft Lighting</th>\n",
              "      <th>Outdoor</th>\n",
              "      <th>Curly Hair</th>\n",
              "      <th>Wavy Hair</th>\n",
              "      <th>Straight Hair</th>\n",
              "      <th>Receding Hairline</th>\n",
              "      <th>Bangs</th>\n",
              "      <th>Sideburns</th>\n",
              "      <th>Fully Visible Forehead</th>\n",
              "      <th>Partially Visible Forehead</th>\n",
              "      <th>Obstructed Forehead</th>\n",
              "      <th>Bushy Eyebrows</th>\n",
              "      <th>Arched Eyebrows</th>\n",
              "      <th>Narrow Eyes</th>\n",
              "      <th>Eyes Open</th>\n",
              "      <th>Big Nose</th>\n",
              "      <th>Pointy Nose</th>\n",
              "      <th>Big Lips</th>\n",
              "      <th>Mouth Closed</th>\n",
              "      <th>Mouth Slightly Open</th>\n",
              "      <th>Mouth Wide Open</th>\n",
              "      <th>Teeth Not Visible</th>\n",
              "      <th>No Beard</th>\n",
              "      <th>Goatee</th>\n",
              "      <th>Round Jaw</th>\n",
              "      <th>Double Chin</th>\n",
              "      <th>Wearing Hat</th>\n",
              "      <th>Oval Face</th>\n",
              "      <th>Square Face</th>\n",
              "      <th>Round Face</th>\n",
              "      <th>Color Photo</th>\n",
              "      <th>Posed Photo</th>\n",
              "      <th>Attractive Man</th>\n",
              "      <th>Attractive Woman</th>\n",
              "      <th>Indian</th>\n",
              "      <th>Gray Hair</th>\n",
              "      <th>Bags Under Eyes</th>\n",
              "      <th>Heavy Makeup</th>\n",
              "      <th>Rosy Cheeks</th>\n",
              "      <th>Shiny Skin</th>\n",
              "      <th>Pale Skin</th>\n",
              "      <th>5 o' Clock Shadow</th>\n",
              "      <th>Strong Nose-Mouth Lines</th>\n",
              "      <th>Wearing Lipstick</th>\n",
              "      <th>Flushed Face</th>\n",
              "      <th>High Cheekbones</th>\n",
              "      <th>Brown Eyes</th>\n",
              "      <th>Wearing Earrings</th>\n",
              "      <th>Wearing Necktie</th>\n",
              "      <th>Wearing Necklace</th>\n",
              "    </tr>\n",
              "  </thead>\n",
              "  <tbody>\n",
              "    <tr>\n",
              "      <th>0</th>\n",
              "      <td>Aaron Eckhart</td>\n",
              "      <td>1</td>\n",
              "      <td>1.568346</td>\n",
              "      <td>-1.889043</td>\n",
              "      <td>1.737203</td>\n",
              "      <td>-0.929729</td>\n",
              "      <td>-1.471799</td>\n",
              "      <td>-0.195580</td>\n",
              "      <td>-0.835609</td>\n",
              "      <td>-0.351468</td>\n",
              "      <td>-1.012533</td>\n",
              "      <td>-0.719593</td>\n",
              "      <td>-0.632401</td>\n",
              "      <td>0.464839</td>\n",
              "      <td>-0.973528</td>\n",
              "      <td>1.565186</td>\n",
              "      <td>-1.296704</td>\n",
              "      <td>-1.542719</td>\n",
              "      <td>-0.684671</td>\n",
              "      <td>-0.864990</td>\n",
              "      <td>0.766886</td>\n",
              "      <td>-0.218952</td>\n",
              "      <td>-1.655665</td>\n",
              "      <td>-0.787044</td>\n",
              "      <td>-0.599665</td>\n",
              "      <td>0.458519</td>\n",
              "      <td>0.189760</td>\n",
              "      <td>0.851555</td>\n",
              "      <td>-0.385720</td>\n",
              "      <td>-0.497719</td>\n",
              "      <td>-0.161149</td>\n",
              "      <td>-0.257514</td>\n",
              "      <td>-0.088839</td>\n",
              "      <td>0.455469</td>\n",
              "      <td>-0.839211</td>\n",
              "      <td>-0.022948</td>\n",
              "      <td>-0.922568</td>\n",
              "      <td>-0.114539</td>\n",
              "      <td>1.461222</td>\n",
              "      <td>1.758481</td>\n",
              "      <td>0.068894</td>\n",
              "      <td>1.267860</td>\n",
              "      <td>-1.120244</td>\n",
              "      <td>0.917617</td>\n",
              "      <td>-1.307957</td>\n",
              "      <td>-1.500413</td>\n",
              "      <td>1.029221</td>\n",
              "      <td>0.832363</td>\n",
              "      <td>-0.498657</td>\n",
              "      <td>0.251365</td>\n",
              "      <td>-0.705281</td>\n",
              "      <td>-0.515715</td>\n",
              "      <td>0.374239</td>\n",
              "      <td>-0.168675</td>\n",
              "      <td>-0.614143</td>\n",
              "      <td>3.097703</td>\n",
              "      <td>1.523858</td>\n",
              "      <td>0.779278</td>\n",
              "      <td>-0.071454</td>\n",
              "      <td>-1.246483</td>\n",
              "      <td>-0.769283</td>\n",
              "      <td>-0.725597</td>\n",
              "      <td>-1.820610</td>\n",
              "      <td>-2.072977</td>\n",
              "      <td>-0.960759</td>\n",
              "      <td>0.361738</td>\n",
              "      <td>1.166118</td>\n",
              "      <td>-1.164916</td>\n",
              "      <td>-1.139990</td>\n",
              "      <td>-2.371746</td>\n",
              "      <td>-1.299932</td>\n",
              "      <td>-0.414682</td>\n",
              "      <td>-1.144902</td>\n",
              "      <td>0.694007</td>\n",
              "      <td>-0.826609</td>\n",
              "    </tr>\n",
              "    <tr>\n",
              "      <th>1</th>\n",
              "      <td>Aaron Guiel</td>\n",
              "      <td>1</td>\n",
              "      <td>0.169851</td>\n",
              "      <td>-0.982408</td>\n",
              "      <td>0.422709</td>\n",
              "      <td>-1.282184</td>\n",
              "      <td>-1.360060</td>\n",
              "      <td>-0.867002</td>\n",
              "      <td>-0.452293</td>\n",
              "      <td>-0.197521</td>\n",
              "      <td>-0.956073</td>\n",
              "      <td>-0.802107</td>\n",
              "      <td>-0.736883</td>\n",
              "      <td>0.294554</td>\n",
              "      <td>-1.277647</td>\n",
              "      <td>0.954771</td>\n",
              "      <td>-0.990992</td>\n",
              "      <td>-1.167359</td>\n",
              "      <td>-0.835146</td>\n",
              "      <td>0.798544</td>\n",
              "      <td>-0.971679</td>\n",
              "      <td>0.342826</td>\n",
              "      <td>-1.322562</td>\n",
              "      <td>0.962937</td>\n",
              "      <td>-1.199363</td>\n",
              "      <td>-0.157307</td>\n",
              "      <td>0.443224</td>\n",
              "      <td>-0.002882</td>\n",
              "      <td>-0.021158</td>\n",
              "      <td>-0.226563</td>\n",
              "      <td>-0.081039</td>\n",
              "      <td>-0.827202</td>\n",
              "      <td>-0.106624</td>\n",
              "      <td>1.227594</td>\n",
              "      <td>-0.812223</td>\n",
              "      <td>-1.241258</td>\n",
              "      <td>0.096272</td>\n",
              "      <td>-0.404544</td>\n",
              "      <td>0.325919</td>\n",
              "      <td>0.474452</td>\n",
              "      <td>1.135359</td>\n",
              "      <td>0.058725</td>\n",
              "      <td>0.611176</td>\n",
              "      <td>-1.172510</td>\n",
              "      <td>0.428512</td>\n",
              "      <td>-0.874235</td>\n",
              "      <td>-1.191565</td>\n",
              "      <td>0.192359</td>\n",
              "      <td>-0.204166</td>\n",
              "      <td>0.342347</td>\n",
              "      <td>0.239512</td>\n",
              "      <td>-1.474690</td>\n",
              "      <td>0.236057</td>\n",
              "      <td>-0.565208</td>\n",
              "      <td>-0.712542</td>\n",
              "      <td>2.997076</td>\n",
              "      <td>-0.273306</td>\n",
              "      <td>-0.187722</td>\n",
              "      <td>-0.604608</td>\n",
              "      <td>-1.321701</td>\n",
              "      <td>-0.938559</td>\n",
              "      <td>0.494294</td>\n",
              "      <td>-0.659043</td>\n",
              "      <td>-1.143747</td>\n",
              "      <td>-0.775722</td>\n",
              "      <td>-0.832036</td>\n",
              "      <td>-0.397680</td>\n",
              "      <td>0.874160</td>\n",
              "      <td>-0.945431</td>\n",
              "      <td>-0.268649</td>\n",
              "      <td>-0.006244</td>\n",
              "      <td>-0.030406</td>\n",
              "      <td>-0.480128</td>\n",
              "      <td>0.666760</td>\n",
              "      <td>-0.496559</td>\n",
              "    </tr>\n",
              "    <tr>\n",
              "      <th>2</th>\n",
              "      <td>Aaron Patterson</td>\n",
              "      <td>1</td>\n",
              "      <td>0.997749</td>\n",
              "      <td>-1.364195</td>\n",
              "      <td>-0.157377</td>\n",
              "      <td>-0.756447</td>\n",
              "      <td>-1.891825</td>\n",
              "      <td>-0.871526</td>\n",
              "      <td>-0.862893</td>\n",
              "      <td>0.031445</td>\n",
              "      <td>-1.341523</td>\n",
              "      <td>-0.090037</td>\n",
              "      <td>-1.200725</td>\n",
              "      <td>-0.332460</td>\n",
              "      <td>-0.537006</td>\n",
              "      <td>1.298364</td>\n",
              "      <td>-1.498471</td>\n",
              "      <td>-1.285823</td>\n",
              "      <td>1.141742</td>\n",
              "      <td>0.172817</td>\n",
              "      <td>0.106412</td>\n",
              "      <td>-0.788843</td>\n",
              "      <td>0.349295</td>\n",
              "      <td>-1.643716</td>\n",
              "      <td>0.454287</td>\n",
              "      <td>1.189458</td>\n",
              "      <td>-0.688414</td>\n",
              "      <td>-0.590574</td>\n",
              "      <td>-0.266673</td>\n",
              "      <td>0.467224</td>\n",
              "      <td>0.567348</td>\n",
              "      <td>-1.719101</td>\n",
              "      <td>0.124667</td>\n",
              "      <td>1.602741</td>\n",
              "      <td>-0.659399</td>\n",
              "      <td>-1.753762</td>\n",
              "      <td>1.204473</td>\n",
              "      <td>0.022188</td>\n",
              "      <td>-1.135443</td>\n",
              "      <td>1.702857</td>\n",
              "      <td>-0.422144</td>\n",
              "      <td>0.587859</td>\n",
              "      <td>0.414363</td>\n",
              "      <td>0.344447</td>\n",
              "      <td>-1.260451</td>\n",
              "      <td>-0.577746</td>\n",
              "      <td>0.405567</td>\n",
              "      <td>-1.916545</td>\n",
              "      <td>0.921260</td>\n",
              "      <td>0.247437</td>\n",
              "      <td>-0.428451</td>\n",
              "      <td>-0.772273</td>\n",
              "      <td>0.370673</td>\n",
              "      <td>-0.509596</td>\n",
              "      <td>-0.768482</td>\n",
              "      <td>1.706897</td>\n",
              "      <td>0.126524</td>\n",
              "      <td>-0.497001</td>\n",
              "      <td>-0.393042</td>\n",
              "      <td>-0.178307</td>\n",
              "      <td>-1.180227</td>\n",
              "      <td>-0.596914</td>\n",
              "      <td>-1.805382</td>\n",
              "      <td>-0.951643</td>\n",
              "      <td>-0.838087</td>\n",
              "      <td>1.549743</td>\n",
              "      <td>1.884745</td>\n",
              "      <td>-0.999765</td>\n",
              "      <td>-1.359858</td>\n",
              "      <td>-1.912108</td>\n",
              "      <td>-1.095634</td>\n",
              "      <td>0.915126</td>\n",
              "      <td>-0.572332</td>\n",
              "      <td>0.144262</td>\n",
              "      <td>-0.841231</td>\n",
              "    </tr>\n",
              "    <tr>\n",
              "      <th>3</th>\n",
              "      <td>Aaron Peirsol</td>\n",
              "      <td>1</td>\n",
              "      <td>1.122719</td>\n",
              "      <td>-1.997799</td>\n",
              "      <td>1.916144</td>\n",
              "      <td>-2.514214</td>\n",
              "      <td>-2.580071</td>\n",
              "      <td>-1.404239</td>\n",
              "      <td>0.057551</td>\n",
              "      <td>0.000196</td>\n",
              "      <td>-1.273512</td>\n",
              "      <td>-1.431462</td>\n",
              "      <td>-0.070519</td>\n",
              "      <td>-0.339239</td>\n",
              "      <td>-2.004149</td>\n",
              "      <td>0.665695</td>\n",
              "      <td>-0.775940</td>\n",
              "      <td>-1.471629</td>\n",
              "      <td>-1.179080</td>\n",
              "      <td>0.563327</td>\n",
              "      <td>-0.664429</td>\n",
              "      <td>-1.407928</td>\n",
              "      <td>0.435594</td>\n",
              "      <td>-0.589988</td>\n",
              "      <td>-1.603498</td>\n",
              "      <td>1.170741</td>\n",
              "      <td>0.760103</td>\n",
              "      <td>0.211498</td>\n",
              "      <td>-0.516180</td>\n",
              "      <td>-1.331146</td>\n",
              "      <td>0.202840</td>\n",
              "      <td>0.149645</td>\n",
              "      <td>-0.046430</td>\n",
              "      <td>0.640885</td>\n",
              "      <td>-0.107616</td>\n",
              "      <td>-0.831271</td>\n",
              "      <td>-0.827005</td>\n",
              "      <td>-0.588725</td>\n",
              "      <td>0.429255</td>\n",
              "      <td>1.587664</td>\n",
              "      <td>0.499086</td>\n",
              "      <td>-0.056869</td>\n",
              "      <td>-0.866643</td>\n",
              "      <td>-0.959689</td>\n",
              "      <td>0.350730</td>\n",
              "      <td>-1.335354</td>\n",
              "      <td>-0.427890</td>\n",
              "      <td>0.826817</td>\n",
              "      <td>-0.256779</td>\n",
              "      <td>0.149751</td>\n",
              "      <td>-1.201531</td>\n",
              "      <td>-1.083917</td>\n",
              "      <td>0.255363</td>\n",
              "      <td>-0.650423</td>\n",
              "      <td>-0.506293</td>\n",
              "      <td>1.101592</td>\n",
              "      <td>0.640783</td>\n",
              "      <td>1.575028</td>\n",
              "      <td>-0.484397</td>\n",
              "      <td>-1.559682</td>\n",
              "      <td>-1.437124</td>\n",
              "      <td>0.379363</td>\n",
              "      <td>-0.648233</td>\n",
              "      <td>-2.257352</td>\n",
              "      <td>-1.075613</td>\n",
              "      <td>0.567822</td>\n",
              "      <td>-0.176089</td>\n",
              "      <td>1.108125</td>\n",
              "      <td>-1.600944</td>\n",
              "      <td>-3.264613</td>\n",
              "      <td>0.813418</td>\n",
              "      <td>0.308631</td>\n",
              "      <td>-0.848693</td>\n",
              "      <td>0.475941</td>\n",
              "      <td>-0.447025</td>\n",
              "    </tr>\n",
              "    <tr>\n",
              "      <th>4</th>\n",
              "      <td>Aaron Peirsol</td>\n",
              "      <td>2</td>\n",
              "      <td>1.078214</td>\n",
              "      <td>-2.008098</td>\n",
              "      <td>1.676211</td>\n",
              "      <td>-2.278056</td>\n",
              "      <td>-2.651845</td>\n",
              "      <td>-1.348408</td>\n",
              "      <td>0.649089</td>\n",
              "      <td>0.017656</td>\n",
              "      <td>-1.889111</td>\n",
              "      <td>-1.857213</td>\n",
              "      <td>-0.568057</td>\n",
              "      <td>0.840375</td>\n",
              "      <td>-1.981269</td>\n",
              "      <td>1.666710</td>\n",
              "      <td>-0.910723</td>\n",
              "      <td>-1.993509</td>\n",
              "      <td>-0.871335</td>\n",
              "      <td>0.507786</td>\n",
              "      <td>-0.488947</td>\n",
              "      <td>-0.886490</td>\n",
              "      <td>-0.990132</td>\n",
              "      <td>-0.750813</td>\n",
              "      <td>-0.378479</td>\n",
              "      <td>0.583086</td>\n",
              "      <td>-1.479603</td>\n",
              "      <td>0.250185</td>\n",
              "      <td>-0.381123</td>\n",
              "      <td>-0.611991</td>\n",
              "      <td>-0.143091</td>\n",
              "      <td>-1.072760</td>\n",
              "      <td>0.432094</td>\n",
              "      <td>1.089193</td>\n",
              "      <td>-0.470929</td>\n",
              "      <td>-1.177124</td>\n",
              "      <td>-0.111313</td>\n",
              "      <td>-0.154603</td>\n",
              "      <td>-1.031508</td>\n",
              "      <td>2.392458</td>\n",
              "      <td>-0.191576</td>\n",
              "      <td>1.227903</td>\n",
              "      <td>-1.381797</td>\n",
              "      <td>-1.528851</td>\n",
              "      <td>0.907964</td>\n",
              "      <td>-1.324288</td>\n",
              "      <td>-0.934644</td>\n",
              "      <td>0.686995</td>\n",
              "      <td>-0.149301</td>\n",
              "      <td>0.033626</td>\n",
              "      <td>-0.911138</td>\n",
              "      <td>-1.241092</td>\n",
              "      <td>0.904177</td>\n",
              "      <td>-0.309967</td>\n",
              "      <td>-1.038892</td>\n",
              "      <td>3.758118</td>\n",
              "      <td>1.058365</td>\n",
              "      <td>1.502150</td>\n",
              "      <td>-0.649715</td>\n",
              "      <td>-1.072944</td>\n",
              "      <td>-1.778316</td>\n",
              "      <td>-0.077124</td>\n",
              "      <td>-0.743271</td>\n",
              "      <td>-3.300709</td>\n",
              "      <td>-0.779219</td>\n",
              "      <td>-1.461474</td>\n",
              "      <td>-0.955283</td>\n",
              "      <td>0.119113</td>\n",
              "      <td>-1.128176</td>\n",
              "      <td>-3.161048</td>\n",
              "      <td>0.082680</td>\n",
              "      <td>-0.439614</td>\n",
              "      <td>-0.359859</td>\n",
              "      <td>-0.760774</td>\n",
              "      <td>-0.410152</td>\n",
              "    </tr>\n",
              "    <tr>\n",
              "      <th>...</th>\n",
              "      <td>...</td>\n",
              "      <td>...</td>\n",
              "      <td>...</td>\n",
              "      <td>...</td>\n",
              "      <td>...</td>\n",
              "      <td>...</td>\n",
              "      <td>...</td>\n",
              "      <td>...</td>\n",
              "      <td>...</td>\n",
              "      <td>...</td>\n",
              "      <td>...</td>\n",
              "      <td>...</td>\n",
              "      <td>...</td>\n",
              "      <td>...</td>\n",
              "      <td>...</td>\n",
              "      <td>...</td>\n",
              "      <td>...</td>\n",
              "      <td>...</td>\n",
              "      <td>...</td>\n",
              "      <td>...</td>\n",
              "      <td>...</td>\n",
              "      <td>...</td>\n",
              "      <td>...</td>\n",
              "      <td>...</td>\n",
              "      <td>...</td>\n",
              "      <td>...</td>\n",
              "      <td>...</td>\n",
              "      <td>...</td>\n",
              "      <td>...</td>\n",
              "      <td>...</td>\n",
              "      <td>...</td>\n",
              "      <td>...</td>\n",
              "      <td>...</td>\n",
              "      <td>...</td>\n",
              "      <td>...</td>\n",
              "      <td>...</td>\n",
              "      <td>...</td>\n",
              "      <td>...</td>\n",
              "      <td>...</td>\n",
              "      <td>...</td>\n",
              "      <td>...</td>\n",
              "      <td>...</td>\n",
              "      <td>...</td>\n",
              "      <td>...</td>\n",
              "      <td>...</td>\n",
              "      <td>...</td>\n",
              "      <td>...</td>\n",
              "      <td>...</td>\n",
              "      <td>...</td>\n",
              "      <td>...</td>\n",
              "      <td>...</td>\n",
              "      <td>...</td>\n",
              "      <td>...</td>\n",
              "      <td>...</td>\n",
              "      <td>...</td>\n",
              "      <td>...</td>\n",
              "      <td>...</td>\n",
              "      <td>...</td>\n",
              "      <td>...</td>\n",
              "      <td>...</td>\n",
              "      <td>...</td>\n",
              "      <td>...</td>\n",
              "      <td>...</td>\n",
              "      <td>...</td>\n",
              "      <td>...</td>\n",
              "      <td>...</td>\n",
              "      <td>...</td>\n",
              "      <td>...</td>\n",
              "      <td>...</td>\n",
              "      <td>...</td>\n",
              "      <td>...</td>\n",
              "      <td>...</td>\n",
              "      <td>...</td>\n",
              "      <td>...</td>\n",
              "      <td>...</td>\n",
              "    </tr>\n",
              "    <tr>\n",
              "      <th>13138</th>\n",
              "      <td>Zorica Radovic</td>\n",
              "      <td>1</td>\n",
              "      <td>-0.205363</td>\n",
              "      <td>-0.202842</td>\n",
              "      <td>-1.232735</td>\n",
              "      <td>-1.409125</td>\n",
              "      <td>-1.804858</td>\n",
              "      <td>0.287268</td>\n",
              "      <td>-0.521815</td>\n",
              "      <td>-0.789165</td>\n",
              "      <td>-1.008119</td>\n",
              "      <td>0.531813</td>\n",
              "      <td>-1.098911</td>\n",
              "      <td>-1.222991</td>\n",
              "      <td>-1.101209</td>\n",
              "      <td>0.333529</td>\n",
              "      <td>-1.661762</td>\n",
              "      <td>-0.615137</td>\n",
              "      <td>-0.955105</td>\n",
              "      <td>-1.001434</td>\n",
              "      <td>1.151181</td>\n",
              "      <td>-0.725380</td>\n",
              "      <td>-0.613303</td>\n",
              "      <td>0.013868</td>\n",
              "      <td>-1.449088</td>\n",
              "      <td>0.358975</td>\n",
              "      <td>0.453012</td>\n",
              "      <td>-0.408078</td>\n",
              "      <td>-1.168971</td>\n",
              "      <td>0.517069</td>\n",
              "      <td>-2.377880</td>\n",
              "      <td>0.865058</td>\n",
              "      <td>-0.509311</td>\n",
              "      <td>-2.316458</td>\n",
              "      <td>-0.391076</td>\n",
              "      <td>0.362223</td>\n",
              "      <td>-0.046279</td>\n",
              "      <td>2.614626</td>\n",
              "      <td>0.173369</td>\n",
              "      <td>0.732807</td>\n",
              "      <td>-0.255544</td>\n",
              "      <td>0.165985</td>\n",
              "      <td>0.100935</td>\n",
              "      <td>1.851214</td>\n",
              "      <td>-0.729254</td>\n",
              "      <td>-1.489450</td>\n",
              "      <td>1.506469</td>\n",
              "      <td>1.157942</td>\n",
              "      <td>-1.157065</td>\n",
              "      <td>0.405820</td>\n",
              "      <td>-0.730833</td>\n",
              "      <td>-0.545101</td>\n",
              "      <td>0.257814</td>\n",
              "      <td>-0.855756</td>\n",
              "      <td>-0.468355</td>\n",
              "      <td>3.347975</td>\n",
              "      <td>0.155652</td>\n",
              "      <td>0.062375</td>\n",
              "      <td>-0.158210</td>\n",
              "      <td>-0.379090</td>\n",
              "      <td>-0.958333</td>\n",
              "      <td>0.262992</td>\n",
              "      <td>-0.565337</td>\n",
              "      <td>-2.472554</td>\n",
              "      <td>-0.809748</td>\n",
              "      <td>-0.867156</td>\n",
              "      <td>-0.879554</td>\n",
              "      <td>-0.179497</td>\n",
              "      <td>0.323676</td>\n",
              "      <td>-2.188852</td>\n",
              "      <td>-1.169369</td>\n",
              "      <td>0.924397</td>\n",
              "      <td>-0.217415</td>\n",
              "      <td>-0.414024</td>\n",
              "      <td>-0.495178</td>\n",
              "    </tr>\n",
              "    <tr>\n",
              "      <th>13139</th>\n",
              "      <td>Zulfiqar Ahmed</td>\n",
              "      <td>1</td>\n",
              "      <td>1.957472</td>\n",
              "      <td>-2.472470</td>\n",
              "      <td>-1.307994</td>\n",
              "      <td>-0.671636</td>\n",
              "      <td>-1.960125</td>\n",
              "      <td>-0.838803</td>\n",
              "      <td>-1.365955</td>\n",
              "      <td>0.510448</td>\n",
              "      <td>-1.262193</td>\n",
              "      <td>0.418947</td>\n",
              "      <td>-1.158176</td>\n",
              "      <td>0.404213</td>\n",
              "      <td>-0.754658</td>\n",
              "      <td>0.803589</td>\n",
              "      <td>-1.555146</td>\n",
              "      <td>-0.860096</td>\n",
              "      <td>2.193870</td>\n",
              "      <td>-0.649570</td>\n",
              "      <td>0.652186</td>\n",
              "      <td>-0.578955</td>\n",
              "      <td>-0.255723</td>\n",
              "      <td>-0.099989</td>\n",
              "      <td>0.040915</td>\n",
              "      <td>-0.596765</td>\n",
              "      <td>-0.555903</td>\n",
              "      <td>-0.718252</td>\n",
              "      <td>-0.981299</td>\n",
              "      <td>1.638613</td>\n",
              "      <td>0.140998</td>\n",
              "      <td>-1.598451</td>\n",
              "      <td>0.541661</td>\n",
              "      <td>1.596235</td>\n",
              "      <td>-1.113776</td>\n",
              "      <td>-1.469515</td>\n",
              "      <td>1.043287</td>\n",
              "      <td>-0.723379</td>\n",
              "      <td>1.326225</td>\n",
              "      <td>-0.625304</td>\n",
              "      <td>0.441308</td>\n",
              "      <td>0.489116</td>\n",
              "      <td>0.303926</td>\n",
              "      <td>1.458086</td>\n",
              "      <td>-1.095851</td>\n",
              "      <td>-0.687068</td>\n",
              "      <td>0.693567</td>\n",
              "      <td>-2.666923</td>\n",
              "      <td>1.105604</td>\n",
              "      <td>0.139018</td>\n",
              "      <td>-0.598206</td>\n",
              "      <td>-1.261159</td>\n",
              "      <td>0.561531</td>\n",
              "      <td>-0.509703</td>\n",
              "      <td>-0.876744</td>\n",
              "      <td>3.251446</td>\n",
              "      <td>0.043903</td>\n",
              "      <td>-0.317326</td>\n",
              "      <td>-0.700758</td>\n",
              "      <td>0.992693</td>\n",
              "      <td>-0.881803</td>\n",
              "      <td>-0.039414</td>\n",
              "      <td>-0.975488</td>\n",
              "      <td>-0.515647</td>\n",
              "      <td>0.067796</td>\n",
              "      <td>-2.487289</td>\n",
              "      <td>2.608861</td>\n",
              "      <td>-0.954190</td>\n",
              "      <td>-1.599463</td>\n",
              "      <td>-1.238220</td>\n",
              "      <td>-1.187034</td>\n",
              "      <td>1.874130</td>\n",
              "      <td>-0.832614</td>\n",
              "      <td>0.152785</td>\n",
              "      <td>-0.554331</td>\n",
              "    </tr>\n",
              "    <tr>\n",
              "      <th>13140</th>\n",
              "      <td>Zumrati Juma</td>\n",
              "      <td>1</td>\n",
              "      <td>-0.037001</td>\n",
              "      <td>-1.164150</td>\n",
              "      <td>0.228494</td>\n",
              "      <td>0.187503</td>\n",
              "      <td>-1.836475</td>\n",
              "      <td>-0.958412</td>\n",
              "      <td>-0.669697</td>\n",
              "      <td>-0.480330</td>\n",
              "      <td>0.493433</td>\n",
              "      <td>-1.893151</td>\n",
              "      <td>-0.834652</td>\n",
              "      <td>-0.102431</td>\n",
              "      <td>-0.699261</td>\n",
              "      <td>-1.405303</td>\n",
              "      <td>0.844077</td>\n",
              "      <td>-0.116514</td>\n",
              "      <td>-0.214757</td>\n",
              "      <td>0.475018</td>\n",
              "      <td>-0.725584</td>\n",
              "      <td>0.992295</td>\n",
              "      <td>0.408178</td>\n",
              "      <td>1.503704</td>\n",
              "      <td>0.224821</td>\n",
              "      <td>-1.651474</td>\n",
              "      <td>-0.696158</td>\n",
              "      <td>-0.310649</td>\n",
              "      <td>0.245560</td>\n",
              "      <td>-0.470200</td>\n",
              "      <td>0.701684</td>\n",
              "      <td>0.232114</td>\n",
              "      <td>-0.301231</td>\n",
              "      <td>-0.332474</td>\n",
              "      <td>-0.526344</td>\n",
              "      <td>-0.167074</td>\n",
              "      <td>0.505181</td>\n",
              "      <td>0.797412</td>\n",
              "      <td>-0.021158</td>\n",
              "      <td>-0.398478</td>\n",
              "      <td>0.558351</td>\n",
              "      <td>0.324081</td>\n",
              "      <td>-0.152209</td>\n",
              "      <td>0.942711</td>\n",
              "      <td>-0.488052</td>\n",
              "      <td>-1.128406</td>\n",
              "      <td>-0.581190</td>\n",
              "      <td>0.193692</td>\n",
              "      <td>-0.786337</td>\n",
              "      <td>0.249549</td>\n",
              "      <td>0.326143</td>\n",
              "      <td>-0.282758</td>\n",
              "      <td>-0.233144</td>\n",
              "      <td>-0.591594</td>\n",
              "      <td>-0.507537</td>\n",
              "      <td>3.937875</td>\n",
              "      <td>-0.776063</td>\n",
              "      <td>-0.706599</td>\n",
              "      <td>-0.756855</td>\n",
              "      <td>-1.240756</td>\n",
              "      <td>0.203719</td>\n",
              "      <td>-0.297385</td>\n",
              "      <td>-0.404331</td>\n",
              "      <td>0.409007</td>\n",
              "      <td>0.365549</td>\n",
              "      <td>-1.938639</td>\n",
              "      <td>-0.491080</td>\n",
              "      <td>0.495067</td>\n",
              "      <td>-0.524767</td>\n",
              "      <td>-1.073731</td>\n",
              "      <td>0.111010</td>\n",
              "      <td>0.976262</td>\n",
              "      <td>-0.453027</td>\n",
              "      <td>-0.399981</td>\n",
              "      <td>-1.078655</td>\n",
              "    </tr>\n",
              "    <tr>\n",
              "      <th>13141</th>\n",
              "      <td>Zurab Tsereteli</td>\n",
              "      <td>1</td>\n",
              "      <td>0.282219</td>\n",
              "      <td>-0.396198</td>\n",
              "      <td>1.270470</td>\n",
              "      <td>-1.981209</td>\n",
              "      <td>-1.702940</td>\n",
              "      <td>-1.507203</td>\n",
              "      <td>-2.330721</td>\n",
              "      <td>-0.295928</td>\n",
              "      <td>1.056618</td>\n",
              "      <td>-1.613698</td>\n",
              "      <td>-1.285627</td>\n",
              "      <td>-0.485386</td>\n",
              "      <td>-0.205323</td>\n",
              "      <td>1.934108</td>\n",
              "      <td>-1.218088</td>\n",
              "      <td>-1.707885</td>\n",
              "      <td>-0.752663</td>\n",
              "      <td>0.741653</td>\n",
              "      <td>-0.769613</td>\n",
              "      <td>1.389680</td>\n",
              "      <td>-1.369030</td>\n",
              "      <td>-0.506228</td>\n",
              "      <td>0.224905</td>\n",
              "      <td>-0.345608</td>\n",
              "      <td>-0.931425</td>\n",
              "      <td>-0.110922</td>\n",
              "      <td>0.312601</td>\n",
              "      <td>-0.266563</td>\n",
              "      <td>1.603785</td>\n",
              "      <td>-0.617495</td>\n",
              "      <td>-0.648989</td>\n",
              "      <td>2.192311</td>\n",
              "      <td>-1.063701</td>\n",
              "      <td>-0.903860</td>\n",
              "      <td>-0.413422</td>\n",
              "      <td>-0.565632</td>\n",
              "      <td>2.357694</td>\n",
              "      <td>0.108151</td>\n",
              "      <td>1.140542</td>\n",
              "      <td>-0.401063</td>\n",
              "      <td>-1.181955</td>\n",
              "      <td>-0.226927</td>\n",
              "      <td>-0.439579</td>\n",
              "      <td>-0.944363</td>\n",
              "      <td>0.390102</td>\n",
              "      <td>0.255136</td>\n",
              "      <td>-0.403347</td>\n",
              "      <td>0.084864</td>\n",
              "      <td>1.255151</td>\n",
              "      <td>-1.324164</td>\n",
              "      <td>-1.168942</td>\n",
              "      <td>-0.192449</td>\n",
              "      <td>-0.352072</td>\n",
              "      <td>5.779007</td>\n",
              "      <td>0.119552</td>\n",
              "      <td>-1.670524</td>\n",
              "      <td>-1.591471</td>\n",
              "      <td>-1.895301</td>\n",
              "      <td>0.594803</td>\n",
              "      <td>0.724919</td>\n",
              "      <td>-0.802374</td>\n",
              "      <td>-0.400945</td>\n",
              "      <td>0.138485</td>\n",
              "      <td>-0.662101</td>\n",
              "      <td>-1.692131</td>\n",
              "      <td>1.284772</td>\n",
              "      <td>-0.808180</td>\n",
              "      <td>-0.710051</td>\n",
              "      <td>0.694621</td>\n",
              "      <td>0.936065</td>\n",
              "      <td>-0.767500</td>\n",
              "      <td>1.146930</td>\n",
              "      <td>-0.260940</td>\n",
              "    </tr>\n",
              "    <tr>\n",
              "      <th>13142</th>\n",
              "      <td>Zydrunas Ilgauskas</td>\n",
              "      <td>1</td>\n",
              "      <td>0.071197</td>\n",
              "      <td>-1.928840</td>\n",
              "      <td>2.122345</td>\n",
              "      <td>-1.892862</td>\n",
              "      <td>-2.044238</td>\n",
              "      <td>-0.313663</td>\n",
              "      <td>-0.081369</td>\n",
              "      <td>-0.140593</td>\n",
              "      <td>-1.277778</td>\n",
              "      <td>-0.982043</td>\n",
              "      <td>-0.821169</td>\n",
              "      <td>-0.022828</td>\n",
              "      <td>-0.298351</td>\n",
              "      <td>0.435190</td>\n",
              "      <td>-1.210812</td>\n",
              "      <td>-0.697044</td>\n",
              "      <td>-0.464536</td>\n",
              "      <td>-1.667977</td>\n",
              "      <td>1.529314</td>\n",
              "      <td>-0.226598</td>\n",
              "      <td>-0.282927</td>\n",
              "      <td>-0.116822</td>\n",
              "      <td>-1.624645</td>\n",
              "      <td>1.068728</td>\n",
              "      <td>0.377217</td>\n",
              "      <td>0.122125</td>\n",
              "      <td>0.123483</td>\n",
              "      <td>-1.225890</td>\n",
              "      <td>1.005340</td>\n",
              "      <td>-1.546618</td>\n",
              "      <td>-0.042370</td>\n",
              "      <td>1.205560</td>\n",
              "      <td>-0.720206</td>\n",
              "      <td>-0.984173</td>\n",
              "      <td>0.152836</td>\n",
              "      <td>-1.093502</td>\n",
              "      <td>0.356432</td>\n",
              "      <td>0.372232</td>\n",
              "      <td>-0.622362</td>\n",
              "      <td>0.639559</td>\n",
              "      <td>0.890090</td>\n",
              "      <td>0.268939</td>\n",
              "      <td>-0.327339</td>\n",
              "      <td>-0.646106</td>\n",
              "      <td>1.427300</td>\n",
              "      <td>0.713796</td>\n",
              "      <td>-0.022563</td>\n",
              "      <td>0.319223</td>\n",
              "      <td>-0.701545</td>\n",
              "      <td>-1.129568</td>\n",
              "      <td>0.193108</td>\n",
              "      <td>-0.102382</td>\n",
              "      <td>-0.702965</td>\n",
              "      <td>1.603916</td>\n",
              "      <td>-0.356743</td>\n",
              "      <td>0.112698</td>\n",
              "      <td>-0.506052</td>\n",
              "      <td>-1.544711</td>\n",
              "      <td>-0.801094</td>\n",
              "      <td>-0.382729</td>\n",
              "      <td>-0.717301</td>\n",
              "      <td>-1.366505</td>\n",
              "      <td>-1.281035</td>\n",
              "      <td>0.773205</td>\n",
              "      <td>-0.404315</td>\n",
              "      <td>-1.100768</td>\n",
              "      <td>-0.872605</td>\n",
              "      <td>-3.490632</td>\n",
              "      <td>-0.840752</td>\n",
              "      <td>0.532488</td>\n",
              "      <td>-0.946166</td>\n",
              "      <td>-0.232008</td>\n",
              "      <td>-1.257209</td>\n",
              "    </tr>\n",
              "  </tbody>\n",
              "</table>\n",
              "<p>13143 rows × 75 columns</p>\n",
              "</div>"
            ],
            "text/plain": [
              "                   person  imagenum  ...  Wearing Necktie  Wearing Necklace\n",
              "0           Aaron Eckhart         1  ...         0.694007         -0.826609\n",
              "1             Aaron Guiel         1  ...         0.666760         -0.496559\n",
              "2         Aaron Patterson         1  ...         0.144262         -0.841231\n",
              "3           Aaron Peirsol         1  ...         0.475941         -0.447025\n",
              "4           Aaron Peirsol         2  ...        -0.760774         -0.410152\n",
              "...                   ...       ...  ...              ...               ...\n",
              "13138      Zorica Radovic         1  ...        -0.414024         -0.495178\n",
              "13139      Zulfiqar Ahmed         1  ...         0.152785         -0.554331\n",
              "13140        Zumrati Juma         1  ...        -0.399981         -1.078655\n",
              "13141     Zurab Tsereteli         1  ...         1.146930         -0.260940\n",
              "13142  Zydrunas Ilgauskas         1  ...        -0.232008         -1.257209\n",
              "\n",
              "[13143 rows x 75 columns]"
            ]
          },
          "metadata": {
            "tags": []
          },
          "execution_count": 5
        }
      ]
    },
    {
      "cell_type": "code",
      "metadata": {
        "colab": {
          "base_uri": "https://localhost:8080/"
        },
        "id": "Jz3yuMquqq7h",
        "outputId": "b90b770c-6c0b-4090-bd24-953b483c88c7"
      },
      "source": [
        "np.mean(data['Eyeglasses'])"
      ],
      "execution_count": null,
      "outputs": [
        {
          "output_type": "execute_result",
          "data": {
            "text/plain": [
              "-0.7573992278051415"
            ]
          },
          "metadata": {
            "tags": []
          },
          "execution_count": 6
        }
      ]
    },
    {
      "cell_type": "code",
      "metadata": {
        "id": "Lj4738TMB27H"
      },
      "source": [
        "data_eyeg_sung = data[(data['Eyeglasses'] > 1) | (data['Sunglasses'] > 1)]"
      ],
      "execution_count": null,
      "outputs": []
    },
    {
      "cell_type": "code",
      "metadata": {
        "colab": {
          "base_uri": "https://localhost:8080/",
          "height": 643
        },
        "id": "sAxDL3KCK1MD",
        "outputId": "53505116-f566-48ca-9460-851bf4b12ef1"
      },
      "source": [
        "data_eyeg_sung"
      ],
      "execution_count": null,
      "outputs": [
        {
          "output_type": "execute_result",
          "data": {
            "text/html": [
              "<div>\n",
              "<style scoped>\n",
              "    .dataframe tbody tr th:only-of-type {\n",
              "        vertical-align: middle;\n",
              "    }\n",
              "\n",
              "    .dataframe tbody tr th {\n",
              "        vertical-align: top;\n",
              "    }\n",
              "\n",
              "    .dataframe thead th {\n",
              "        text-align: right;\n",
              "    }\n",
              "</style>\n",
              "<table border=\"1\" class=\"dataframe\">\n",
              "  <thead>\n",
              "    <tr style=\"text-align: right;\">\n",
              "      <th></th>\n",
              "      <th>person</th>\n",
              "      <th>imagenum</th>\n",
              "      <th>Male</th>\n",
              "      <th>Asian</th>\n",
              "      <th>White</th>\n",
              "      <th>Black</th>\n",
              "      <th>Baby</th>\n",
              "      <th>Child</th>\n",
              "      <th>Youth</th>\n",
              "      <th>Middle Aged</th>\n",
              "      <th>Senior</th>\n",
              "      <th>Black Hair</th>\n",
              "      <th>Blond Hair</th>\n",
              "      <th>Brown Hair</th>\n",
              "      <th>Bald</th>\n",
              "      <th>No Eyewear</th>\n",
              "      <th>Eyeglasses</th>\n",
              "      <th>Sunglasses</th>\n",
              "      <th>Mustache</th>\n",
              "      <th>Smiling</th>\n",
              "      <th>Frowning</th>\n",
              "      <th>Chubby</th>\n",
              "      <th>Blurry</th>\n",
              "      <th>Harsh Lighting</th>\n",
              "      <th>Flash</th>\n",
              "      <th>Soft Lighting</th>\n",
              "      <th>Outdoor</th>\n",
              "      <th>Curly Hair</th>\n",
              "      <th>Wavy Hair</th>\n",
              "      <th>Straight Hair</th>\n",
              "      <th>Receding Hairline</th>\n",
              "      <th>Bangs</th>\n",
              "      <th>Sideburns</th>\n",
              "      <th>Fully Visible Forehead</th>\n",
              "      <th>Partially Visible Forehead</th>\n",
              "      <th>Obstructed Forehead</th>\n",
              "      <th>Bushy Eyebrows</th>\n",
              "      <th>Arched Eyebrows</th>\n",
              "      <th>Narrow Eyes</th>\n",
              "      <th>Eyes Open</th>\n",
              "      <th>Big Nose</th>\n",
              "      <th>Pointy Nose</th>\n",
              "      <th>Big Lips</th>\n",
              "      <th>Mouth Closed</th>\n",
              "      <th>Mouth Slightly Open</th>\n",
              "      <th>Mouth Wide Open</th>\n",
              "      <th>Teeth Not Visible</th>\n",
              "      <th>No Beard</th>\n",
              "      <th>Goatee</th>\n",
              "      <th>Round Jaw</th>\n",
              "      <th>Double Chin</th>\n",
              "      <th>Wearing Hat</th>\n",
              "      <th>Oval Face</th>\n",
              "      <th>Square Face</th>\n",
              "      <th>Round Face</th>\n",
              "      <th>Color Photo</th>\n",
              "      <th>Posed Photo</th>\n",
              "      <th>Attractive Man</th>\n",
              "      <th>Attractive Woman</th>\n",
              "      <th>Indian</th>\n",
              "      <th>Gray Hair</th>\n",
              "      <th>Bags Under Eyes</th>\n",
              "      <th>Heavy Makeup</th>\n",
              "      <th>Rosy Cheeks</th>\n",
              "      <th>Shiny Skin</th>\n",
              "      <th>Pale Skin</th>\n",
              "      <th>5 o' Clock Shadow</th>\n",
              "      <th>Strong Nose-Mouth Lines</th>\n",
              "      <th>Wearing Lipstick</th>\n",
              "      <th>Flushed Face</th>\n",
              "      <th>High Cheekbones</th>\n",
              "      <th>Brown Eyes</th>\n",
              "      <th>Wearing Earrings</th>\n",
              "      <th>Wearing Necktie</th>\n",
              "      <th>Wearing Necklace</th>\n",
              "    </tr>\n",
              "  </thead>\n",
              "  <tbody>\n",
              "    <tr>\n",
              "      <th>11</th>\n",
              "      <td>Abba Eban</td>\n",
              "      <td>1</td>\n",
              "      <td>0.891376</td>\n",
              "      <td>-0.438415</td>\n",
              "      <td>-0.091453</td>\n",
              "      <td>-1.738903</td>\n",
              "      <td>-1.024990</td>\n",
              "      <td>-1.464063</td>\n",
              "      <td>-0.720319</td>\n",
              "      <td>-0.660456</td>\n",
              "      <td>0.422967</td>\n",
              "      <td>-0.994338</td>\n",
              "      <td>-0.861802</td>\n",
              "      <td>-1.478486</td>\n",
              "      <td>0.044811</td>\n",
              "      <td>-1.839042</td>\n",
              "      <td>1.364000</td>\n",
              "      <td>-1.059565</td>\n",
              "      <td>-0.708427</td>\n",
              "      <td>1.042788</td>\n",
              "      <td>-0.985953</td>\n",
              "      <td>-0.015361</td>\n",
              "      <td>-0.870919</td>\n",
              "      <td>0.209452</td>\n",
              "      <td>-0.612433</td>\n",
              "      <td>0.002519</td>\n",
              "      <td>-0.026295</td>\n",
              "      <td>1.206707</td>\n",
              "      <td>-0.469633</td>\n",
              "      <td>-0.115299</td>\n",
              "      <td>1.500805</td>\n",
              "      <td>-1.173895</td>\n",
              "      <td>-0.150321</td>\n",
              "      <td>1.720873</td>\n",
              "      <td>-0.756571</td>\n",
              "      <td>-1.152290</td>\n",
              "      <td>-0.130448</td>\n",
              "      <td>0.306728</td>\n",
              "      <td>0.901029</td>\n",
              "      <td>0.281118</td>\n",
              "      <td>1.524275</td>\n",
              "      <td>-0.320513</td>\n",
              "      <td>-0.673076</td>\n",
              "      <td>-1.958219</td>\n",
              "      <td>-0.287539</td>\n",
              "      <td>0.606163</td>\n",
              "      <td>-1.210706</td>\n",
              "      <td>0.650360</td>\n",
              "      <td>-0.232447</td>\n",
              "      <td>0.209564</td>\n",
              "      <td>0.707926</td>\n",
              "      <td>-0.347586</td>\n",
              "      <td>-0.007994</td>\n",
              "      <td>-0.490397</td>\n",
              "      <td>-0.611137</td>\n",
              "      <td>3.166451</td>\n",
              "      <td>-0.500568</td>\n",
              "      <td>-0.935811</td>\n",
              "      <td>-1.144654</td>\n",
              "      <td>-1.314293</td>\n",
              "      <td>-0.054920</td>\n",
              "      <td>0.533673</td>\n",
              "      <td>-0.791892</td>\n",
              "      <td>1.872837</td>\n",
              "      <td>-0.610418</td>\n",
              "      <td>1.294854</td>\n",
              "      <td>-0.470484</td>\n",
              "      <td>0.806376</td>\n",
              "      <td>-1.021146</td>\n",
              "      <td>1.071033</td>\n",
              "      <td>0.008474</td>\n",
              "      <td>0.441745</td>\n",
              "      <td>-0.575209</td>\n",
              "      <td>0.428245</td>\n",
              "      <td>0.049420</td>\n",
              "    </tr>\n",
              "    <tr>\n",
              "      <th>65</th>\n",
              "      <td>Adam Herbert</td>\n",
              "      <td>1</td>\n",
              "      <td>1.560896</td>\n",
              "      <td>-0.682723</td>\n",
              "      <td>-0.144132</td>\n",
              "      <td>-0.248947</td>\n",
              "      <td>-2.184962</td>\n",
              "      <td>-1.594235</td>\n",
              "      <td>-1.261326</td>\n",
              "      <td>-0.192192</td>\n",
              "      <td>0.692476</td>\n",
              "      <td>-1.257894</td>\n",
              "      <td>-1.090903</td>\n",
              "      <td>-1.154971</td>\n",
              "      <td>-0.340501</td>\n",
              "      <td>-1.514334</td>\n",
              "      <td>1.657590</td>\n",
              "      <td>-1.244636</td>\n",
              "      <td>-0.246403</td>\n",
              "      <td>-0.969046</td>\n",
              "      <td>0.578671</td>\n",
              "      <td>-0.958364</td>\n",
              "      <td>-1.094435</td>\n",
              "      <td>1.003486</td>\n",
              "      <td>-0.933398</td>\n",
              "      <td>0.948395</td>\n",
              "      <td>0.527877</td>\n",
              "      <td>0.901251</td>\n",
              "      <td>0.004529</td>\n",
              "      <td>-0.081746</td>\n",
              "      <td>1.293035</td>\n",
              "      <td>-0.745005</td>\n",
              "      <td>-0.011995</td>\n",
              "      <td>1.017611</td>\n",
              "      <td>-0.646203</td>\n",
              "      <td>-0.123539</td>\n",
              "      <td>0.674154</td>\n",
              "      <td>-0.243821</td>\n",
              "      <td>1.892064</td>\n",
              "      <td>-1.576882</td>\n",
              "      <td>1.384288</td>\n",
              "      <td>-0.825420</td>\n",
              "      <td>-0.097030</td>\n",
              "      <td>0.832045</td>\n",
              "      <td>-0.798784</td>\n",
              "      <td>-1.329910</td>\n",
              "      <td>0.422535</td>\n",
              "      <td>0.110633</td>\n",
              "      <td>0.049014</td>\n",
              "      <td>0.037323</td>\n",
              "      <td>-0.372870</td>\n",
              "      <td>0.777285</td>\n",
              "      <td>0.126890</td>\n",
              "      <td>-0.325882</td>\n",
              "      <td>-1.052156</td>\n",
              "      <td>0.924792</td>\n",
              "      <td>-0.437172</td>\n",
              "      <td>-0.661319</td>\n",
              "      <td>-0.854476</td>\n",
              "      <td>-1.487670</td>\n",
              "      <td>0.040201</td>\n",
              "      <td>0.720240</td>\n",
              "      <td>-1.346520</td>\n",
              "      <td>-1.731096</td>\n",
              "      <td>-0.189376</td>\n",
              "      <td>-0.035970</td>\n",
              "      <td>0.978076</td>\n",
              "      <td>0.589878</td>\n",
              "      <td>-1.381297</td>\n",
              "      <td>-1.957178</td>\n",
              "      <td>-0.307275</td>\n",
              "      <td>1.306821</td>\n",
              "      <td>-0.977601</td>\n",
              "      <td>0.765260</td>\n",
              "      <td>-0.774844</td>\n",
              "    </tr>\n",
              "    <tr>\n",
              "      <th>73</th>\n",
              "      <td>Adam Scott</td>\n",
              "      <td>1</td>\n",
              "      <td>0.939057</td>\n",
              "      <td>-0.400515</td>\n",
              "      <td>-0.314256</td>\n",
              "      <td>-2.017519</td>\n",
              "      <td>-1.413213</td>\n",
              "      <td>-0.065480</td>\n",
              "      <td>-0.443729</td>\n",
              "      <td>-0.645220</td>\n",
              "      <td>-0.145437</td>\n",
              "      <td>-0.240641</td>\n",
              "      <td>-0.801750</td>\n",
              "      <td>-0.409412</td>\n",
              "      <td>-1.244435</td>\n",
              "      <td>-1.717000</td>\n",
              "      <td>1.060317</td>\n",
              "      <td>0.205631</td>\n",
              "      <td>-0.501312</td>\n",
              "      <td>-0.535188</td>\n",
              "      <td>0.628871</td>\n",
              "      <td>0.095559</td>\n",
              "      <td>-0.444686</td>\n",
              "      <td>0.193616</td>\n",
              "      <td>-0.629217</td>\n",
              "      <td>1.976299</td>\n",
              "      <td>0.941200</td>\n",
              "      <td>-0.003921</td>\n",
              "      <td>-0.330776</td>\n",
              "      <td>-0.178620</td>\n",
              "      <td>-0.565615</td>\n",
              "      <td>-0.693062</td>\n",
              "      <td>-0.294695</td>\n",
              "      <td>-0.115016</td>\n",
              "      <td>-0.215002</td>\n",
              "      <td>0.011114</td>\n",
              "      <td>0.285445</td>\n",
              "      <td>-0.191124</td>\n",
              "      <td>1.953789</td>\n",
              "      <td>-0.679681</td>\n",
              "      <td>0.044523</td>\n",
              "      <td>0.051448</td>\n",
              "      <td>0.021563</td>\n",
              "      <td>0.112863</td>\n",
              "      <td>-1.278079</td>\n",
              "      <td>-0.700395</td>\n",
              "      <td>1.275996</td>\n",
              "      <td>-0.052012</td>\n",
              "      <td>-0.256948</td>\n",
              "      <td>0.247431</td>\n",
              "      <td>-0.324654</td>\n",
              "      <td>0.996876</td>\n",
              "      <td>0.497460</td>\n",
              "      <td>-0.708810</td>\n",
              "      <td>-0.190225</td>\n",
              "      <td>3.315389</td>\n",
              "      <td>-1.065664</td>\n",
              "      <td>-0.391809</td>\n",
              "      <td>-0.775118</td>\n",
              "      <td>-1.122167</td>\n",
              "      <td>-0.258704</td>\n",
              "      <td>0.079092</td>\n",
              "      <td>-0.407224</td>\n",
              "      <td>-1.195437</td>\n",
              "      <td>-1.157498</td>\n",
              "      <td>-6.088279</td>\n",
              "      <td>-0.053308</td>\n",
              "      <td>-0.374793</td>\n",
              "      <td>-0.741705</td>\n",
              "      <td>-1.364770</td>\n",
              "      <td>-0.664691</td>\n",
              "      <td>1.165037</td>\n",
              "      <td>-0.301658</td>\n",
              "      <td>-0.744314</td>\n",
              "      <td>-0.951048</td>\n",
              "    </tr>\n",
              "    <tr>\n",
              "      <th>89</th>\n",
              "      <td>Adrian Fernandez</td>\n",
              "      <td>1</td>\n",
              "      <td>0.687753</td>\n",
              "      <td>-0.214105</td>\n",
              "      <td>-0.105258</td>\n",
              "      <td>-1.803177</td>\n",
              "      <td>-1.515000</td>\n",
              "      <td>-1.027170</td>\n",
              "      <td>-0.388956</td>\n",
              "      <td>-0.176173</td>\n",
              "      <td>-0.712303</td>\n",
              "      <td>-0.475537</td>\n",
              "      <td>-0.470834</td>\n",
              "      <td>1.099451</td>\n",
              "      <td>-0.820231</td>\n",
              "      <td>-2.162317</td>\n",
              "      <td>1.724502</td>\n",
              "      <td>-1.039646</td>\n",
              "      <td>-0.848029</td>\n",
              "      <td>-0.901660</td>\n",
              "      <td>1.124450</td>\n",
              "      <td>-0.358546</td>\n",
              "      <td>0.055127</td>\n",
              "      <td>-0.953324</td>\n",
              "      <td>0.008874</td>\n",
              "      <td>0.912365</td>\n",
              "      <td>-1.112774</td>\n",
              "      <td>0.153361</td>\n",
              "      <td>-0.776390</td>\n",
              "      <td>-0.426180</td>\n",
              "      <td>-1.330266</td>\n",
              "      <td>-0.185862</td>\n",
              "      <td>0.011429</td>\n",
              "      <td>-1.845682</td>\n",
              "      <td>0.568008</td>\n",
              "      <td>-0.767672</td>\n",
              "      <td>0.396076</td>\n",
              "      <td>0.597855</td>\n",
              "      <td>0.131212</td>\n",
              "      <td>1.256821</td>\n",
              "      <td>-0.053697</td>\n",
              "      <td>0.579546</td>\n",
              "      <td>-0.672964</td>\n",
              "      <td>-1.336543</td>\n",
              "      <td>0.158949</td>\n",
              "      <td>-0.905985</td>\n",
              "      <td>-0.154458</td>\n",
              "      <td>1.075176</td>\n",
              "      <td>-0.348474</td>\n",
              "      <td>0.220709</td>\n",
              "      <td>-0.508185</td>\n",
              "      <td>-1.367511</td>\n",
              "      <td>0.169583</td>\n",
              "      <td>-0.501225</td>\n",
              "      <td>-0.861663</td>\n",
              "      <td>2.235177</td>\n",
              "      <td>0.290778</td>\n",
              "      <td>-1.073695</td>\n",
              "      <td>-1.222231</td>\n",
              "      <td>-1.451346</td>\n",
              "      <td>-1.383872</td>\n",
              "      <td>0.146192</td>\n",
              "      <td>-1.029256</td>\n",
              "      <td>-1.215802</td>\n",
              "      <td>-1.064587</td>\n",
              "      <td>-0.515558</td>\n",
              "      <td>-0.221251</td>\n",
              "      <td>-1.478853</td>\n",
              "      <td>-1.297759</td>\n",
              "      <td>-1.448235</td>\n",
              "      <td>-1.010419</td>\n",
              "      <td>0.343436</td>\n",
              "      <td>-0.318953</td>\n",
              "      <td>-0.541671</td>\n",
              "      <td>-0.767589</td>\n",
              "    </tr>\n",
              "    <tr>\n",
              "      <th>124</th>\n",
              "      <td>Ahmed Qureia</td>\n",
              "      <td>1</td>\n",
              "      <td>1.008981</td>\n",
              "      <td>-1.314750</td>\n",
              "      <td>1.523454</td>\n",
              "      <td>-2.116692</td>\n",
              "      <td>-2.125553</td>\n",
              "      <td>-1.221953</td>\n",
              "      <td>-1.230812</td>\n",
              "      <td>-0.425646</td>\n",
              "      <td>0.777009</td>\n",
              "      <td>-1.815105</td>\n",
              "      <td>-0.840239</td>\n",
              "      <td>-2.378599</td>\n",
              "      <td>0.355704</td>\n",
              "      <td>-1.363151</td>\n",
              "      <td>1.129481</td>\n",
              "      <td>-1.243512</td>\n",
              "      <td>-1.272315</td>\n",
              "      <td>0.111218</td>\n",
              "      <td>-0.288854</td>\n",
              "      <td>-0.347297</td>\n",
              "      <td>-0.106410</td>\n",
              "      <td>-1.610665</td>\n",
              "      <td>0.810033</td>\n",
              "      <td>1.256694</td>\n",
              "      <td>-1.140782</td>\n",
              "      <td>0.349362</td>\n",
              "      <td>0.854414</td>\n",
              "      <td>-0.555604</td>\n",
              "      <td>0.990964</td>\n",
              "      <td>-1.247054</td>\n",
              "      <td>-0.324670</td>\n",
              "      <td>-0.375046</td>\n",
              "      <td>-0.941851</td>\n",
              "      <td>-0.634658</td>\n",
              "      <td>-0.395812</td>\n",
              "      <td>1.195768</td>\n",
              "      <td>0.049604</td>\n",
              "      <td>1.537866</td>\n",
              "      <td>0.568791</td>\n",
              "      <td>0.487090</td>\n",
              "      <td>-1.009910</td>\n",
              "      <td>0.162128</td>\n",
              "      <td>-0.495167</td>\n",
              "      <td>-1.936574</td>\n",
              "      <td>0.797661</td>\n",
              "      <td>0.652155</td>\n",
              "      <td>-0.470121</td>\n",
              "      <td>-0.021844</td>\n",
              "      <td>0.256021</td>\n",
              "      <td>-0.307875</td>\n",
              "      <td>-0.254779</td>\n",
              "      <td>-0.179301</td>\n",
              "      <td>-0.869558</td>\n",
              "      <td>2.781891</td>\n",
              "      <td>0.253420</td>\n",
              "      <td>0.198719</td>\n",
              "      <td>-1.114044</td>\n",
              "      <td>-1.802561</td>\n",
              "      <td>0.124995</td>\n",
              "      <td>0.238565</td>\n",
              "      <td>-1.121864</td>\n",
              "      <td>0.130903</td>\n",
              "      <td>0.599097</td>\n",
              "      <td>1.290725</td>\n",
              "      <td>-1.012597</td>\n",
              "      <td>0.346559</td>\n",
              "      <td>-0.988396</td>\n",
              "      <td>-0.753705</td>\n",
              "      <td>0.470813</td>\n",
              "      <td>-0.249155</td>\n",
              "      <td>-0.785713</td>\n",
              "      <td>0.359848</td>\n",
              "      <td>-0.824636</td>\n",
              "    </tr>\n",
              "    <tr>\n",
              "      <th>...</th>\n",
              "      <td>...</td>\n",
              "      <td>...</td>\n",
              "      <td>...</td>\n",
              "      <td>...</td>\n",
              "      <td>...</td>\n",
              "      <td>...</td>\n",
              "      <td>...</td>\n",
              "      <td>...</td>\n",
              "      <td>...</td>\n",
              "      <td>...</td>\n",
              "      <td>...</td>\n",
              "      <td>...</td>\n",
              "      <td>...</td>\n",
              "      <td>...</td>\n",
              "      <td>...</td>\n",
              "      <td>...</td>\n",
              "      <td>...</td>\n",
              "      <td>...</td>\n",
              "      <td>...</td>\n",
              "      <td>...</td>\n",
              "      <td>...</td>\n",
              "      <td>...</td>\n",
              "      <td>...</td>\n",
              "      <td>...</td>\n",
              "      <td>...</td>\n",
              "      <td>...</td>\n",
              "      <td>...</td>\n",
              "      <td>...</td>\n",
              "      <td>...</td>\n",
              "      <td>...</td>\n",
              "      <td>...</td>\n",
              "      <td>...</td>\n",
              "      <td>...</td>\n",
              "      <td>...</td>\n",
              "      <td>...</td>\n",
              "      <td>...</td>\n",
              "      <td>...</td>\n",
              "      <td>...</td>\n",
              "      <td>...</td>\n",
              "      <td>...</td>\n",
              "      <td>...</td>\n",
              "      <td>...</td>\n",
              "      <td>...</td>\n",
              "      <td>...</td>\n",
              "      <td>...</td>\n",
              "      <td>...</td>\n",
              "      <td>...</td>\n",
              "      <td>...</td>\n",
              "      <td>...</td>\n",
              "      <td>...</td>\n",
              "      <td>...</td>\n",
              "      <td>...</td>\n",
              "      <td>...</td>\n",
              "      <td>...</td>\n",
              "      <td>...</td>\n",
              "      <td>...</td>\n",
              "      <td>...</td>\n",
              "      <td>...</td>\n",
              "      <td>...</td>\n",
              "      <td>...</td>\n",
              "      <td>...</td>\n",
              "      <td>...</td>\n",
              "      <td>...</td>\n",
              "      <td>...</td>\n",
              "      <td>...</td>\n",
              "      <td>...</td>\n",
              "      <td>...</td>\n",
              "      <td>...</td>\n",
              "      <td>...</td>\n",
              "      <td>...</td>\n",
              "      <td>...</td>\n",
              "      <td>...</td>\n",
              "      <td>...</td>\n",
              "      <td>...</td>\n",
              "      <td>...</td>\n",
              "    </tr>\n",
              "    <tr>\n",
              "      <th>13105</th>\n",
              "      <td>Zeng Qinghong</td>\n",
              "      <td>1</td>\n",
              "      <td>1.078172</td>\n",
              "      <td>0.550946</td>\n",
              "      <td>-0.795634</td>\n",
              "      <td>-1.784596</td>\n",
              "      <td>-2.272507</td>\n",
              "      <td>-1.209854</td>\n",
              "      <td>-0.771255</td>\n",
              "      <td>-0.297456</td>\n",
              "      <td>-0.156262</td>\n",
              "      <td>0.109190</td>\n",
              "      <td>-0.894099</td>\n",
              "      <td>-0.137387</td>\n",
              "      <td>-0.443563</td>\n",
              "      <td>-2.125080</td>\n",
              "      <td>1.992381</td>\n",
              "      <td>-0.878861</td>\n",
              "      <td>-0.488814</td>\n",
              "      <td>-0.182373</td>\n",
              "      <td>0.436039</td>\n",
              "      <td>-0.567829</td>\n",
              "      <td>-0.096712</td>\n",
              "      <td>-0.303767</td>\n",
              "      <td>-0.425528</td>\n",
              "      <td>-0.518848</td>\n",
              "      <td>-0.988930</td>\n",
              "      <td>0.034335</td>\n",
              "      <td>-0.968954</td>\n",
              "      <td>0.362273</td>\n",
              "      <td>1.023114</td>\n",
              "      <td>-0.946671</td>\n",
              "      <td>-0.350718</td>\n",
              "      <td>0.976455</td>\n",
              "      <td>-0.940625</td>\n",
              "      <td>-1.070922</td>\n",
              "      <td>0.147000</td>\n",
              "      <td>0.976006</td>\n",
              "      <td>0.658866</td>\n",
              "      <td>1.226018</td>\n",
              "      <td>1.071792</td>\n",
              "      <td>-0.929327</td>\n",
              "      <td>-0.064185</td>\n",
              "      <td>0.622689</td>\n",
              "      <td>-0.523396</td>\n",
              "      <td>-1.272740</td>\n",
              "      <td>1.012349</td>\n",
              "      <td>0.411912</td>\n",
              "      <td>-0.549807</td>\n",
              "      <td>0.189594</td>\n",
              "      <td>-0.002259</td>\n",
              "      <td>-1.118717</td>\n",
              "      <td>-0.578480</td>\n",
              "      <td>-0.249452</td>\n",
              "      <td>-0.421787</td>\n",
              "      <td>3.742265</td>\n",
              "      <td>0.560134</td>\n",
              "      <td>-1.201329</td>\n",
              "      <td>-1.112733</td>\n",
              "      <td>-1.292439</td>\n",
              "      <td>-0.367355</td>\n",
              "      <td>0.528936</td>\n",
              "      <td>-0.801722</td>\n",
              "      <td>-1.902127</td>\n",
              "      <td>-0.673396</td>\n",
              "      <td>-0.260511</td>\n",
              "      <td>-0.799262</td>\n",
              "      <td>0.151006</td>\n",
              "      <td>-1.171779</td>\n",
              "      <td>-1.102718</td>\n",
              "      <td>-0.308045</td>\n",
              "      <td>1.010474</td>\n",
              "      <td>-0.579461</td>\n",
              "      <td>0.860107</td>\n",
              "      <td>-0.935220</td>\n",
              "    </tr>\n",
              "    <tr>\n",
              "      <th>13106</th>\n",
              "      <td>Zhang Wenkang</td>\n",
              "      <td>1</td>\n",
              "      <td>0.677850</td>\n",
              "      <td>1.258627</td>\n",
              "      <td>-1.324380</td>\n",
              "      <td>-1.987068</td>\n",
              "      <td>-1.811047</td>\n",
              "      <td>-1.064153</td>\n",
              "      <td>-0.638073</td>\n",
              "      <td>-0.594855</td>\n",
              "      <td>0.015680</td>\n",
              "      <td>0.249124</td>\n",
              "      <td>-1.354368</td>\n",
              "      <td>0.625051</td>\n",
              "      <td>-1.485653</td>\n",
              "      <td>-1.150376</td>\n",
              "      <td>1.810401</td>\n",
              "      <td>-1.283909</td>\n",
              "      <td>-1.022938</td>\n",
              "      <td>-0.064038</td>\n",
              "      <td>0.091521</td>\n",
              "      <td>0.109731</td>\n",
              "      <td>-0.554994</td>\n",
              "      <td>-0.926059</td>\n",
              "      <td>-0.356982</td>\n",
              "      <td>0.633683</td>\n",
              "      <td>-0.454086</td>\n",
              "      <td>-0.545352</td>\n",
              "      <td>-1.118090</td>\n",
              "      <td>1.023222</td>\n",
              "      <td>0.572221</td>\n",
              "      <td>-1.918636</td>\n",
              "      <td>-0.361203</td>\n",
              "      <td>1.418439</td>\n",
              "      <td>-0.824726</td>\n",
              "      <td>-1.496109</td>\n",
              "      <td>0.647812</td>\n",
              "      <td>-1.187792</td>\n",
              "      <td>3.011747</td>\n",
              "      <td>0.627029</td>\n",
              "      <td>0.413880</td>\n",
              "      <td>-1.195759</td>\n",
              "      <td>-0.370234</td>\n",
              "      <td>-0.432851</td>\n",
              "      <td>0.064796</td>\n",
              "      <td>-0.891860</td>\n",
              "      <td>0.031602</td>\n",
              "      <td>0.513693</td>\n",
              "      <td>-0.663280</td>\n",
              "      <td>0.240255</td>\n",
              "      <td>0.081932</td>\n",
              "      <td>-1.819742</td>\n",
              "      <td>-1.018516</td>\n",
              "      <td>-0.688762</td>\n",
              "      <td>-0.075001</td>\n",
              "      <td>3.111190</td>\n",
              "      <td>0.250387</td>\n",
              "      <td>-1.431624</td>\n",
              "      <td>-1.147800</td>\n",
              "      <td>-1.887283</td>\n",
              "      <td>0.029987</td>\n",
              "      <td>0.962703</td>\n",
              "      <td>-0.977738</td>\n",
              "      <td>-1.562153</td>\n",
              "      <td>-0.152918</td>\n",
              "      <td>-0.510264</td>\n",
              "      <td>-0.265094</td>\n",
              "      <td>0.635977</td>\n",
              "      <td>-1.090653</td>\n",
              "      <td>-2.104946</td>\n",
              "      <td>0.379725</td>\n",
              "      <td>1.441399</td>\n",
              "      <td>-0.620363</td>\n",
              "      <td>1.039091</td>\n",
              "      <td>-1.146152</td>\n",
              "    </tr>\n",
              "    <tr>\n",
              "      <th>13107</th>\n",
              "      <td>Zhang Wenkang</td>\n",
              "      <td>2</td>\n",
              "      <td>0.868701</td>\n",
              "      <td>0.796246</td>\n",
              "      <td>-0.409699</td>\n",
              "      <td>-2.020221</td>\n",
              "      <td>-0.417173</td>\n",
              "      <td>-1.167407</td>\n",
              "      <td>-1.409480</td>\n",
              "      <td>-0.610954</td>\n",
              "      <td>0.110632</td>\n",
              "      <td>-0.614564</td>\n",
              "      <td>-1.232788</td>\n",
              "      <td>-0.271289</td>\n",
              "      <td>-1.003576</td>\n",
              "      <td>-1.285821</td>\n",
              "      <td>1.331674</td>\n",
              "      <td>-1.577551</td>\n",
              "      <td>-0.836004</td>\n",
              "      <td>-0.837453</td>\n",
              "      <td>0.756482</td>\n",
              "      <td>0.217871</td>\n",
              "      <td>-1.077403</td>\n",
              "      <td>0.144920</td>\n",
              "      <td>-0.660475</td>\n",
              "      <td>-0.159443</td>\n",
              "      <td>-0.062740</td>\n",
              "      <td>0.111914</td>\n",
              "      <td>-0.290327</td>\n",
              "      <td>0.262330</td>\n",
              "      <td>0.098080</td>\n",
              "      <td>-1.311089</td>\n",
              "      <td>-0.551024</td>\n",
              "      <td>1.190253</td>\n",
              "      <td>-0.725577</td>\n",
              "      <td>-0.602162</td>\n",
              "      <td>0.743013</td>\n",
              "      <td>-1.018028</td>\n",
              "      <td>1.695238</td>\n",
              "      <td>1.045340</td>\n",
              "      <td>0.190098</td>\n",
              "      <td>-0.795492</td>\n",
              "      <td>0.810154</td>\n",
              "      <td>-1.821801</td>\n",
              "      <td>0.068382</td>\n",
              "      <td>0.812471</td>\n",
              "      <td>0.072823</td>\n",
              "      <td>0.695742</td>\n",
              "      <td>-0.295046</td>\n",
              "      <td>0.292325</td>\n",
              "      <td>0.393760</td>\n",
              "      <td>-0.174927</td>\n",
              "      <td>-0.607102</td>\n",
              "      <td>-0.466952</td>\n",
              "      <td>0.230712</td>\n",
              "      <td>4.197149</td>\n",
              "      <td>0.064511</td>\n",
              "      <td>-1.731205</td>\n",
              "      <td>-0.901431</td>\n",
              "      <td>-1.850088</td>\n",
              "      <td>0.084108</td>\n",
              "      <td>0.823214</td>\n",
              "      <td>-0.888031</td>\n",
              "      <td>-1.546119</td>\n",
              "      <td>0.042314</td>\n",
              "      <td>-0.976584</td>\n",
              "      <td>-0.587517</td>\n",
              "      <td>0.114448</td>\n",
              "      <td>-1.679136</td>\n",
              "      <td>-0.706277</td>\n",
              "      <td>-0.155849</td>\n",
              "      <td>0.054271</td>\n",
              "      <td>-1.054849</td>\n",
              "      <td>0.700450</td>\n",
              "      <td>-0.964592</td>\n",
              "    </tr>\n",
              "    <tr>\n",
              "      <th>13113</th>\n",
              "      <td>Zhong Nanshan</td>\n",
              "      <td>1</td>\n",
              "      <td>0.730745</td>\n",
              "      <td>-0.247879</td>\n",
              "      <td>-0.582853</td>\n",
              "      <td>-2.027426</td>\n",
              "      <td>-1.174854</td>\n",
              "      <td>-0.857304</td>\n",
              "      <td>-1.476406</td>\n",
              "      <td>-0.451202</td>\n",
              "      <td>-0.858903</td>\n",
              "      <td>-0.288692</td>\n",
              "      <td>-0.840758</td>\n",
              "      <td>-3.026064</td>\n",
              "      <td>-0.669509</td>\n",
              "      <td>-1.541779</td>\n",
              "      <td>1.772871</td>\n",
              "      <td>-2.014980</td>\n",
              "      <td>-0.469702</td>\n",
              "      <td>-1.046813</td>\n",
              "      <td>1.128680</td>\n",
              "      <td>-0.869736</td>\n",
              "      <td>0.166649</td>\n",
              "      <td>-0.087370</td>\n",
              "      <td>-0.873540</td>\n",
              "      <td>0.880597</td>\n",
              "      <td>-0.051129</td>\n",
              "      <td>0.593495</td>\n",
              "      <td>-1.150772</td>\n",
              "      <td>-0.248687</td>\n",
              "      <td>-0.384760</td>\n",
              "      <td>-0.569332</td>\n",
              "      <td>-0.563405</td>\n",
              "      <td>-1.610060</td>\n",
              "      <td>-0.405351</td>\n",
              "      <td>-0.225056</td>\n",
              "      <td>-0.334782</td>\n",
              "      <td>-0.663993</td>\n",
              "      <td>0.737866</td>\n",
              "      <td>1.376957</td>\n",
              "      <td>0.311603</td>\n",
              "      <td>0.239164</td>\n",
              "      <td>1.204815</td>\n",
              "      <td>-0.893989</td>\n",
              "      <td>0.023688</td>\n",
              "      <td>-1.057510</td>\n",
              "      <td>0.458065</td>\n",
              "      <td>0.653747</td>\n",
              "      <td>-0.183574</td>\n",
              "      <td>0.363733</td>\n",
              "      <td>-0.257609</td>\n",
              "      <td>-0.239509</td>\n",
              "      <td>-0.119485</td>\n",
              "      <td>-0.419429</td>\n",
              "      <td>-0.009463</td>\n",
              "      <td>1.741746</td>\n",
              "      <td>-0.946806</td>\n",
              "      <td>-0.888382</td>\n",
              "      <td>-0.988394</td>\n",
              "      <td>-0.715544</td>\n",
              "      <td>-1.156749</td>\n",
              "      <td>0.242495</td>\n",
              "      <td>-1.112742</td>\n",
              "      <td>0.140229</td>\n",
              "      <td>-0.892657</td>\n",
              "      <td>1.742978</td>\n",
              "      <td>-0.971322</td>\n",
              "      <td>-0.680115</td>\n",
              "      <td>-0.430191</td>\n",
              "      <td>-1.315782</td>\n",
              "      <td>-0.310602</td>\n",
              "      <td>-1.442125</td>\n",
              "      <td>-0.509133</td>\n",
              "      <td>0.286829</td>\n",
              "      <td>-0.348093</td>\n",
              "    </tr>\n",
              "    <tr>\n",
              "      <th>13132</th>\n",
              "      <td>Ziwang Xu</td>\n",
              "      <td>1</td>\n",
              "      <td>1.011369</td>\n",
              "      <td>-0.251539</td>\n",
              "      <td>-0.391340</td>\n",
              "      <td>-1.566485</td>\n",
              "      <td>-1.652811</td>\n",
              "      <td>-1.238583</td>\n",
              "      <td>-0.313809</td>\n",
              "      <td>-0.567687</td>\n",
              "      <td>-0.383853</td>\n",
              "      <td>-0.874328</td>\n",
              "      <td>-0.910312</td>\n",
              "      <td>-0.071142</td>\n",
              "      <td>-0.663742</td>\n",
              "      <td>-1.726824</td>\n",
              "      <td>1.045739</td>\n",
              "      <td>-1.181817</td>\n",
              "      <td>-0.709922</td>\n",
              "      <td>0.089951</td>\n",
              "      <td>0.314315</td>\n",
              "      <td>-0.470479</td>\n",
              "      <td>0.127298</td>\n",
              "      <td>-1.169864</td>\n",
              "      <td>0.078906</td>\n",
              "      <td>0.622010</td>\n",
              "      <td>-0.926995</td>\n",
              "      <td>-0.311382</td>\n",
              "      <td>0.385383</td>\n",
              "      <td>-1.359529</td>\n",
              "      <td>0.541123</td>\n",
              "      <td>0.162672</td>\n",
              "      <td>0.109518</td>\n",
              "      <td>-1.826490</td>\n",
              "      <td>-0.036080</td>\n",
              "      <td>-0.395716</td>\n",
              "      <td>0.185797</td>\n",
              "      <td>-1.265411</td>\n",
              "      <td>2.523066</td>\n",
              "      <td>-0.533822</td>\n",
              "      <td>0.851275</td>\n",
              "      <td>0.037918</td>\n",
              "      <td>-0.025016</td>\n",
              "      <td>-2.572189</td>\n",
              "      <td>-0.067551</td>\n",
              "      <td>-0.201393</td>\n",
              "      <td>-1.073966</td>\n",
              "      <td>0.089201</td>\n",
              "      <td>-0.537035</td>\n",
              "      <td>0.147301</td>\n",
              "      <td>-0.257269</td>\n",
              "      <td>-1.608075</td>\n",
              "      <td>0.695350</td>\n",
              "      <td>-0.411088</td>\n",
              "      <td>-0.713666</td>\n",
              "      <td>4.156269</td>\n",
              "      <td>-1.002815</td>\n",
              "      <td>-0.035269</td>\n",
              "      <td>-1.248111</td>\n",
              "      <td>-0.856021</td>\n",
              "      <td>-0.501422</td>\n",
              "      <td>-0.164578</td>\n",
              "      <td>-0.548193</td>\n",
              "      <td>0.049654</td>\n",
              "      <td>-0.366410</td>\n",
              "      <td>-0.586870</td>\n",
              "      <td>-0.164619</td>\n",
              "      <td>0.141057</td>\n",
              "      <td>-1.436231</td>\n",
              "      <td>-0.922806</td>\n",
              "      <td>0.110439</td>\n",
              "      <td>1.034477</td>\n",
              "      <td>-0.620688</td>\n",
              "      <td>0.214376</td>\n",
              "      <td>-0.495597</td>\n",
              "    </tr>\n",
              "  </tbody>\n",
              "</table>\n",
              "<p>839 rows × 75 columns</p>\n",
              "</div>"
            ],
            "text/plain": [
              "                 person  imagenum  ...  Wearing Necktie  Wearing Necklace\n",
              "11            Abba Eban         1  ...         0.428245          0.049420\n",
              "65         Adam Herbert         1  ...         0.765260         -0.774844\n",
              "73           Adam Scott         1  ...        -0.744314         -0.951048\n",
              "89     Adrian Fernandez         1  ...        -0.541671         -0.767589\n",
              "124        Ahmed Qureia         1  ...         0.359848         -0.824636\n",
              "...                 ...       ...  ...              ...               ...\n",
              "13105     Zeng Qinghong         1  ...         0.860107         -0.935220\n",
              "13106     Zhang Wenkang         1  ...         1.039091         -1.146152\n",
              "13107     Zhang Wenkang         2  ...         0.700450         -0.964592\n",
              "13113     Zhong Nanshan         1  ...         0.286829         -0.348093\n",
              "13132         Ziwang Xu         1  ...         0.214376         -0.495597\n",
              "\n",
              "[839 rows x 75 columns]"
            ]
          },
          "metadata": {
            "tags": []
          },
          "execution_count": 8
        }
      ]
    },
    {
      "cell_type": "code",
      "metadata": {
        "colab": {
          "base_uri": "https://localhost:8080/"
        },
        "id": "P5UV06h5L8kb",
        "outputId": "e2f659e2-bdfa-41e2-dd36-9a9736c11bac"
      },
      "source": [
        "X_images = []\n",
        "X_filename = []\n",
        "X_labels = []\n",
        "folderpath = '/content/lfw/lfw/'\n",
        "for imgfolder in os.listdir(folderpath):\n",
        "  if os.path.isdir(folderpath + imgfolder + '/' +'.ipynb_checkpoints/'):\n",
        "    os.rmdir(folderpath + imgfolder + '/' +'.ipynb_checkpoints/')\n",
        "  ##print(imgfolder)\n",
        "  for filename in os.listdir(folderpath + imgfolder):\n",
        "    filename_1 = folderpath + imgfolder + '/' + filename\n",
        "    img = cv2.imread(filename_1,0)\n",
        "    if img is not None:\n",
        "      img = cv2.resize(img, (100,100), interpolation = cv2.INTER_AREA)\n",
        "      X_images.append(img)\n",
        "      X_labels.append(imgfolder)\n",
        "      X_filename.append(filename)\n",
        "      \n",
        "X_images = np.asarray(X_images)\n",
        "X_labels = np.asarray(X_labels)\n",
        "X_filename = np.asarray(X_filename)\n",
        "X_images.shape"
      ],
      "execution_count": null,
      "outputs": [
        {
          "output_type": "execute_result",
          "data": {
            "text/plain": [
              "(13233, 100, 100)"
            ]
          },
          "metadata": {
            "tags": []
          },
          "execution_count": 9
        }
      ]
    },
    {
      "cell_type": "code",
      "metadata": {
        "id": "Xg4ZJYvZeYi5"
      },
      "source": [
        "X_images_flt = X_images.reshape(X_images.shape[0], X_images.shape[1] * X_images.shape[2]) /255"
      ],
      "execution_count": null,
      "outputs": []
    },
    {
      "cell_type": "code",
      "metadata": {
        "id": "puSFkFNTew4C"
      },
      "source": [
        "df_all_img = pd.DataFrame({\"person\":X_labels,\"imagenum\":X_filename,\"images\":list(X_images_flt)})"
      ],
      "execution_count": null,
      "outputs": []
    },
    {
      "cell_type": "code",
      "metadata": {
        "id": "DMvvu5gvfDlN"
      },
      "source": [
        "for i in range(len(df_all_img)):\n",
        "  df_all_img['imagenum'][i] = int(re.search(r'\\d+', df_all_img['imagenum'][i]).group())\n",
        "  df_all_img['person'][i] = df_all_img['person'][i].replace(\"_\", \" \")"
      ],
      "execution_count": null,
      "outputs": []
    },
    {
      "cell_type": "code",
      "metadata": {
        "colab": {
          "base_uri": "https://localhost:8080/",
          "height": 419
        },
        "id": "m16Zvg22sT7z",
        "outputId": "a7ddc61c-dd4c-4638-b0a8-b44a44ed9535"
      },
      "source": [
        "df_all_img"
      ],
      "execution_count": null,
      "outputs": [
        {
          "output_type": "execute_result",
          "data": {
            "text/html": [
              "<div>\n",
              "<style scoped>\n",
              "    .dataframe tbody tr th:only-of-type {\n",
              "        vertical-align: middle;\n",
              "    }\n",
              "\n",
              "    .dataframe tbody tr th {\n",
              "        vertical-align: top;\n",
              "    }\n",
              "\n",
              "    .dataframe thead th {\n",
              "        text-align: right;\n",
              "    }\n",
              "</style>\n",
              "<table border=\"1\" class=\"dataframe\">\n",
              "  <thead>\n",
              "    <tr style=\"text-align: right;\">\n",
              "      <th></th>\n",
              "      <th>person</th>\n",
              "      <th>imagenum</th>\n",
              "      <th>images</th>\n",
              "    </tr>\n",
              "  </thead>\n",
              "  <tbody>\n",
              "    <tr>\n",
              "      <th>0</th>\n",
              "      <td>Vadim Strogalev</td>\n",
              "      <td>1</td>\n",
              "      <td>[0.2901960784313726, 0.2901960784313726, 0.290...</td>\n",
              "    </tr>\n",
              "    <tr>\n",
              "      <th>1</th>\n",
              "      <td>Tony Parker</td>\n",
              "      <td>1</td>\n",
              "      <td>[0.0, 0.0, 0.0, 0.0, 0.0, 0.0, 0.0, 0.0, 0.0, ...</td>\n",
              "    </tr>\n",
              "    <tr>\n",
              "      <th>2</th>\n",
              "      <td>Tony Parker</td>\n",
              "      <td>2</td>\n",
              "      <td>[0.37254901960784315, 0.3411764705882353, 0.34...</td>\n",
              "    </tr>\n",
              "    <tr>\n",
              "      <th>3</th>\n",
              "      <td>Tyler Hamilton</td>\n",
              "      <td>2</td>\n",
              "      <td>[0.8549019607843137, 0.8549019607843137, 0.827...</td>\n",
              "    </tr>\n",
              "    <tr>\n",
              "      <th>4</th>\n",
              "      <td>Tyler Hamilton</td>\n",
              "      <td>1</td>\n",
              "      <td>[0.40784313725490196, 0.39215686274509803, 0.3...</td>\n",
              "    </tr>\n",
              "    <tr>\n",
              "      <th>...</th>\n",
              "      <td>...</td>\n",
              "      <td>...</td>\n",
              "      <td>...</td>\n",
              "    </tr>\n",
              "    <tr>\n",
              "      <th>13228</th>\n",
              "      <td>Elva Hsiao</td>\n",
              "      <td>1</td>\n",
              "      <td>[0.49019607843137253, 0.3686274509803922, 0.37...</td>\n",
              "    </tr>\n",
              "    <tr>\n",
              "      <th>13229</th>\n",
              "      <td>Kathryn Bigelow</td>\n",
              "      <td>2</td>\n",
              "      <td>[0.30196078431372547, 0.3176470588235294, 0.34...</td>\n",
              "    </tr>\n",
              "    <tr>\n",
              "      <th>13230</th>\n",
              "      <td>Kathryn Bigelow</td>\n",
              "      <td>1</td>\n",
              "      <td>[0.5607843137254902, 0.41568627450980394, 0.21...</td>\n",
              "    </tr>\n",
              "    <tr>\n",
              "      <th>13231</th>\n",
              "      <td>Harland Braun</td>\n",
              "      <td>1</td>\n",
              "      <td>[0.0, 0.0, 0.0, 0.0, 0.0, 0.0, 0.0, 0.0, 0.0, ...</td>\n",
              "    </tr>\n",
              "    <tr>\n",
              "      <th>13232</th>\n",
              "      <td>Peter Schultz</td>\n",
              "      <td>1</td>\n",
              "      <td>[0.0, 0.0, 0.0, 0.0, 0.0, 0.0, 0.0, 0.0, 0.0, ...</td>\n",
              "    </tr>\n",
              "  </tbody>\n",
              "</table>\n",
              "<p>13233 rows × 3 columns</p>\n",
              "</div>"
            ],
            "text/plain": [
              "                person  ...                                             images\n",
              "0      Vadim Strogalev  ...  [0.2901960784313726, 0.2901960784313726, 0.290...\n",
              "1          Tony Parker  ...  [0.0, 0.0, 0.0, 0.0, 0.0, 0.0, 0.0, 0.0, 0.0, ...\n",
              "2          Tony Parker  ...  [0.37254901960784315, 0.3411764705882353, 0.34...\n",
              "3       Tyler Hamilton  ...  [0.8549019607843137, 0.8549019607843137, 0.827...\n",
              "4       Tyler Hamilton  ...  [0.40784313725490196, 0.39215686274509803, 0.3...\n",
              "...                ...  ...                                                ...\n",
              "13228       Elva Hsiao  ...  [0.49019607843137253, 0.3686274509803922, 0.37...\n",
              "13229  Kathryn Bigelow  ...  [0.30196078431372547, 0.3176470588235294, 0.34...\n",
              "13230  Kathryn Bigelow  ...  [0.5607843137254902, 0.41568627450980394, 0.21...\n",
              "13231    Harland Braun  ...  [0.0, 0.0, 0.0, 0.0, 0.0, 0.0, 0.0, 0.0, 0.0, ...\n",
              "13232    Peter Schultz  ...  [0.0, 0.0, 0.0, 0.0, 0.0, 0.0, 0.0, 0.0, 0.0, ...\n",
              "\n",
              "[13233 rows x 3 columns]"
            ]
          },
          "metadata": {
            "tags": []
          },
          "execution_count": 13
        }
      ]
    },
    {
      "cell_type": "code",
      "metadata": {
        "id": "WHMQ0_JGuAGv"
      },
      "source": [
        "df_final_eyeg_sung = df_all_img[df_all_img.set_index(['person','imagenum']).index.isin(data_eyeg_sung.set_index(['person','imagenum']).index)]"
      ],
      "execution_count": null,
      "outputs": []
    },
    {
      "cell_type": "code",
      "metadata": {
        "colab": {
          "base_uri": "https://localhost:8080/"
        },
        "id": "tz_RuI_HwZe-",
        "outputId": "69a42664-8adb-42da-e9c2-7e17361bd0dd"
      },
      "source": [
        "df_final_eyeg_sung['labels'] = 1"
      ],
      "execution_count": null,
      "outputs": [
        {
          "output_type": "stream",
          "text": [
            "/usr/local/lib/python3.6/dist-packages/ipykernel_launcher.py:1: SettingWithCopyWarning: \n",
            "A value is trying to be set on a copy of a slice from a DataFrame.\n",
            "Try using .loc[row_indexer,col_indexer] = value instead\n",
            "\n",
            "See the caveats in the documentation: https://pandas.pydata.org/pandas-docs/stable/user_guide/indexing.html#returning-a-view-versus-a-copy\n",
            "  \"\"\"Entry point for launching an IPython kernel.\n"
          ],
          "name": "stderr"
        }
      ]
    },
    {
      "cell_type": "code",
      "metadata": {
        "id": "CtKsAxZqwcJm"
      },
      "source": [
        "df_img_wo_se= df_all_img[~(df_all_img.set_index(['person','imagenum']).index.isin(data_eyeg_sung.set_index(['person','imagenum']).index))]"
      ],
      "execution_count": null,
      "outputs": []
    },
    {
      "cell_type": "code",
      "metadata": {
        "colab": {
          "base_uri": "https://localhost:8080/"
        },
        "id": "jOMvXADOrTQx",
        "outputId": "8d751cef-3118-455d-f8a4-cc8c83aef77b"
      },
      "source": [
        "df_img_wo_se['labels'] = 0"
      ],
      "execution_count": null,
      "outputs": [
        {
          "output_type": "stream",
          "text": [
            "/usr/local/lib/python3.6/dist-packages/ipykernel_launcher.py:1: SettingWithCopyWarning: \n",
            "A value is trying to be set on a copy of a slice from a DataFrame.\n",
            "Try using .loc[row_indexer,col_indexer] = value instead\n",
            "\n",
            "See the caveats in the documentation: https://pandas.pydata.org/pandas-docs/stable/user_guide/indexing.html#returning-a-view-versus-a-copy\n",
            "  \"\"\"Entry point for launching an IPython kernel.\n"
          ],
          "name": "stderr"
        }
      ]
    },
    {
      "cell_type": "code",
      "metadata": {
        "id": "QEoHELd5zwhw"
      },
      "source": [
        "df_img_65_perc = df_img_wo_se.append(df_final_eyeg_sung[0:546])"
      ],
      "execution_count": null,
      "outputs": []
    },
    {
      "cell_type": "code",
      "metadata": {
        "colab": {
          "base_uri": "https://localhost:8080/",
          "height": 419
        },
        "id": "3hZePvjFkPCS",
        "outputId": "9794b198-6e3f-45fe-f15b-ccc2093eaec9"
      },
      "source": [
        "df_img_65_perc\n"
      ],
      "execution_count": null,
      "outputs": [
        {
          "output_type": "execute_result",
          "data": {
            "text/html": [
              "<div>\n",
              "<style scoped>\n",
              "    .dataframe tbody tr th:only-of-type {\n",
              "        vertical-align: middle;\n",
              "    }\n",
              "\n",
              "    .dataframe tbody tr th {\n",
              "        vertical-align: top;\n",
              "    }\n",
              "\n",
              "    .dataframe thead th {\n",
              "        text-align: right;\n",
              "    }\n",
              "</style>\n",
              "<table border=\"1\" class=\"dataframe\">\n",
              "  <thead>\n",
              "    <tr style=\"text-align: right;\">\n",
              "      <th></th>\n",
              "      <th>person</th>\n",
              "      <th>imagenum</th>\n",
              "      <th>images</th>\n",
              "      <th>labels</th>\n",
              "    </tr>\n",
              "  </thead>\n",
              "  <tbody>\n",
              "    <tr>\n",
              "      <th>0</th>\n",
              "      <td>Vadim Strogalev</td>\n",
              "      <td>1</td>\n",
              "      <td>[0.2901960784313726, 0.2901960784313726, 0.290...</td>\n",
              "      <td>0</td>\n",
              "    </tr>\n",
              "    <tr>\n",
              "      <th>1</th>\n",
              "      <td>Tony Parker</td>\n",
              "      <td>1</td>\n",
              "      <td>[0.0, 0.0, 0.0, 0.0, 0.0, 0.0, 0.0, 0.0, 0.0, ...</td>\n",
              "      <td>0</td>\n",
              "    </tr>\n",
              "    <tr>\n",
              "      <th>2</th>\n",
              "      <td>Tony Parker</td>\n",
              "      <td>2</td>\n",
              "      <td>[0.37254901960784315, 0.3411764705882353, 0.34...</td>\n",
              "      <td>0</td>\n",
              "    </tr>\n",
              "    <tr>\n",
              "      <th>3</th>\n",
              "      <td>Tyler Hamilton</td>\n",
              "      <td>2</td>\n",
              "      <td>[0.8549019607843137, 0.8549019607843137, 0.827...</td>\n",
              "      <td>0</td>\n",
              "    </tr>\n",
              "    <tr>\n",
              "      <th>4</th>\n",
              "      <td>Tyler Hamilton</td>\n",
              "      <td>1</td>\n",
              "      <td>[0.40784313725490196, 0.39215686274509803, 0.3...</td>\n",
              "      <td>0</td>\n",
              "    </tr>\n",
              "    <tr>\n",
              "      <th>...</th>\n",
              "      <td>...</td>\n",
              "      <td>...</td>\n",
              "      <td>...</td>\n",
              "      <td>...</td>\n",
              "    </tr>\n",
              "    <tr>\n",
              "      <th>8636</th>\n",
              "      <td>Rafeeuddin Ahmed</td>\n",
              "      <td>1</td>\n",
              "      <td>[0.30196078431372547, 0.3058823529411765, 0.31...</td>\n",
              "      <td>1</td>\n",
              "    </tr>\n",
              "    <tr>\n",
              "      <th>8639</th>\n",
              "      <td>Alvaro Uribe</td>\n",
              "      <td>21</td>\n",
              "      <td>[0.0, 0.0, 0.0, 0.0, 0.0, 0.0, 0.0, 0.0, 0.0, ...</td>\n",
              "      <td>1</td>\n",
              "    </tr>\n",
              "    <tr>\n",
              "      <th>8641</th>\n",
              "      <td>Alvaro Uribe</td>\n",
              "      <td>17</td>\n",
              "      <td>[0.0, 0.0, 0.0, 0.0, 0.0, 0.0, 0.0, 0.0, 0.0, ...</td>\n",
              "      <td>1</td>\n",
              "    </tr>\n",
              "    <tr>\n",
              "      <th>8642</th>\n",
              "      <td>Alvaro Uribe</td>\n",
              "      <td>11</td>\n",
              "      <td>[0.00392156862745098, 0.00392156862745098, 0.5...</td>\n",
              "      <td>1</td>\n",
              "    </tr>\n",
              "    <tr>\n",
              "      <th>8646</th>\n",
              "      <td>Alvaro Uribe</td>\n",
              "      <td>1</td>\n",
              "      <td>[0.0, 0.0, 0.0, 0.0, 0.0, 0.0, 0.0, 0.0, 0.0, ...</td>\n",
              "      <td>1</td>\n",
              "    </tr>\n",
              "  </tbody>\n",
              "</table>\n",
              "<p>12940 rows × 4 columns</p>\n",
              "</div>"
            ],
            "text/plain": [
              "                person  ... labels\n",
              "0      Vadim Strogalev  ...      0\n",
              "1          Tony Parker  ...      0\n",
              "2          Tony Parker  ...      0\n",
              "3       Tyler Hamilton  ...      0\n",
              "4       Tyler Hamilton  ...      0\n",
              "...                ...  ...    ...\n",
              "8636  Rafeeuddin Ahmed  ...      1\n",
              "8639      Alvaro Uribe  ...      1\n",
              "8641      Alvaro Uribe  ...      1\n",
              "8642      Alvaro Uribe  ...      1\n",
              "8646      Alvaro Uribe  ...      1\n",
              "\n",
              "[12940 rows x 4 columns]"
            ]
          },
          "metadata": {
            "tags": []
          },
          "execution_count": 19
        }
      ]
    },
    {
      "cell_type": "code",
      "metadata": {
        "id": "FZ5Z8T4P42CU"
      },
      "source": [
        "class_names = ['without glasses','glasses']"
      ],
      "execution_count": null,
      "outputs": []
    },
    {
      "cell_type": "code",
      "metadata": {
        "id": "9ICYBpNL0QeC"
      },
      "source": [
        "images = np.array(list(df_img_65_perc[\"images\"].values))\n",
        "labels = np.array(list(df_img_65_perc[\"labels\"].values))"
      ],
      "execution_count": null,
      "outputs": []
    },
    {
      "cell_type": "code",
      "metadata": {
        "colab": {
          "base_uri": "https://localhost:8080/",
          "height": 139
        },
        "id": "oALy8dh-2C3p",
        "outputId": "cd205d29-1d74-4fbe-8c3e-3ff6415fc209"
      },
      "source": [
        "plt.figure(figsize=(10,10))\n",
        "for i in range(4):\n",
        "    plt.subplot(5,5,i+1)\n",
        "    plt.xticks([])\n",
        "    plt.yticks([])\n",
        "    plt.grid(False)\n",
        "    two_d = (np.reshape(images[i+12392], (100, 100)) * 255).astype(np.uint8)\n",
        "    plt.imshow(two_d)\n",
        "    plt.xlabel(class_names[labels[i+12392]])\n",
        "plt.show()"
      ],
      "execution_count": null,
      "outputs": [
        {
          "output_type": "display_data",
          "data": {
            "image/png": "[encoded data removed]",
            "text/plain": [
              "<Figure size 720x720 with 4 Axes>"
            ]
          },
          "metadata": {
            "tags": []
          }
        }
      ]
    },
    {
      "cell_type": "code",
      "metadata": {
        "colab": {
          "base_uri": "https://localhost:8080/"
        },
        "id": "yLiwN3zQ2RhO",
        "outputId": "a10bf571-dca9-4a41-ca7a-ee6cae1bac8a"
      },
      "source": [
        "# Prepare Classifier Training and Testing Data\n",
        "print('\\nPreparing Classifier Training and Testing Data...')\n",
        "train_img, test_img, train_label, test_label = model_selection.train_test_split(images,labels,test_size=0.3)"
      ],
      "execution_count": null,
      "outputs": [
        {
          "output_type": "stream",
          "text": [
            "\n",
            "Preparing Classifier Training and Testing Data...\n"
          ],
          "name": "stdout"
        }
      ]
    },
    {
      "cell_type": "code",
      "metadata": {
        "id": "ZO_vYghE3Xl9"
      },
      "source": [
        "callback = tf.keras.callbacks.EarlyStopping(monitor='loss', patience=3)\n",
        "model = keras.Sequential([\n",
        "    #keras.layers.Flatten(input_shape=(28,28)),\n",
        "    keras.layers.Dense(128, activation='relu'),\n",
        "    keras.layers.Dense(128, activation='relu'),\n",
        "    keras.layers.Dense(128, activation='relu'),\n",
        "    keras.layers.Dense(64, activation='relu'),\n",
        "    keras.layers.Dense(1, activation='linear')\n",
        "])\n",
        "\n",
        "model.compile(optimizer='adam', \n",
        "              loss='mse',#'sparse_categorical_crossentropy',\n",
        "              metrics=['accuracy'])\n"
      ],
      "execution_count": null,
      "outputs": []
    },
    {
      "cell_type": "code",
      "metadata": {
        "colab": {
          "base_uri": "https://localhost:8080/"
        },
        "id": "kygyPLXG4JVr",
        "outputId": "46a96f54-6d25-45a7-cdcd-78a767a8ce1a"
      },
      "source": [
        "model.fit(train_img, train_label, epochs=500,callbacks=[callback])"
      ],
      "execution_count": null,
      "outputs": [
        {
          "output_type": "stream",
          "text": [
            "Epoch 1/500\n",
            "284/284 [==============================] - 3s 9ms/step - loss: 0.3352 - accuracy: 0.9091\n",
            "Epoch 2/500\n",
            "284/284 [==============================] - 3s 9ms/step - loss: 0.0505 - accuracy: 0.9589\n",
            "Epoch 3/500\n",
            "284/284 [==============================] - 3s 9ms/step - loss: 0.0551 - accuracy: 0.9574\n",
            "Epoch 4/500\n",
            "284/284 [==============================] - 3s 9ms/step - loss: 0.0425 - accuracy: 0.9571\n",
            "Epoch 5/500\n",
            "284/284 [==============================] - 3s 9ms/step - loss: 0.0428 - accuracy: 0.9564\n",
            "Epoch 6/500\n",
            "284/284 [==============================] - 3s 9ms/step - loss: 0.0398 - accuracy: 0.9593\n",
            "Epoch 7/500\n",
            "284/284 [==============================] - 3s 9ms/step - loss: 0.0400 - accuracy: 0.9580\n",
            "Epoch 8/500\n",
            "284/284 [==============================] - 3s 10ms/step - loss: 0.0440 - accuracy: 0.9544\n",
            "Epoch 9/500\n",
            "284/284 [==============================] - 3s 9ms/step - loss: 0.0397 - accuracy: 0.9599\n",
            "Epoch 10/500\n",
            "284/284 [==============================] - 3s 9ms/step - loss: 0.0421 - accuracy: 0.9561\n"
          ],
          "name": "stdout"
        },
        {
          "output_type": "execute_result",
          "data": {
            "text/plain": [
              "<tensorflow.python.keras.callbacks.History at 0x7fdba2233668>"
            ]
          },
          "metadata": {
            "tags": []
          },
          "execution_count": 27
        }
      ]
    },
    {
      "cell_type": "code",
      "metadata": {
        "colab": {
          "base_uri": "https://localhost:8080/"
        },
        "id": "sq3s8Ww04L-A",
        "outputId": "670fed65-bdbe-4702-a75b-c14f7ca3e8b4"
      },
      "source": [
        "test_loss, test_acc = model.evaluate(test_img, test_label)\n",
        "\n",
        "print('Test accuracy:', test_acc)"
      ],
      "execution_count": null,
      "outputs": [
        {
          "output_type": "stream",
          "text": [
            "122/122 [==============================] - 0s 3ms/step - loss: 0.0395 - accuracy: 0.9588\n",
            "Test accuracy: 0.9587841033935547\n"
          ],
          "name": "stdout"
        }
      ]
    },
    {
      "cell_type": "code",
      "metadata": {
        "colab": {
          "base_uri": "https://localhost:8080/"
        },
        "id": "Rlrm0l4v_RVk",
        "outputId": "8b78d413-1024-4287-d269-cbd64cd26840"
      },
      "source": [
        "pred_test_labels_prob = model.predict_classes(test_img)"
      ],
      "execution_count": null,
      "outputs": [
        {
          "output_type": "stream",
          "text": [
            "/usr/local/lib/python3.6/dist-packages/tensorflow/python/keras/engine/sequential.py:450: UserWarning: `model.predict_classes()` is deprecated and will be removed after 2021-01-01. Please use instead:* `np.argmax(model.predict(x), axis=-1)`,   if your model does multi-class classification   (e.g. if it uses a `softmax` last-layer activation).* `(model.predict(x) > 0.5).astype(\"int32\")`,   if your model does binary classification   (e.g. if it uses a `sigmoid` last-layer activation).\n",
            "  warnings.warn('`model.predict_classes()` is deprecated and '\n"
          ],
          "name": "stderr"
        }
      ]
    },
    {
      "cell_type": "code",
      "metadata": {
        "id": "mH2jZcdR5rgY"
      },
      "source": [
        "#pred_test_labels = np.where(pred_test_labels_prob>.1,1,0)"
      ],
      "execution_count": null,
      "outputs": []
    },
    {
      "cell_type": "code",
      "metadata": {
        "id": "9owGid-J6L9m"
      },
      "source": [
        "con_mat = np.zeros((2,2))\n",
        "for i in range(len(test_label)):\n",
        "  con_mat[test_label[i]][pred_test_labels_prob[i]] += 1"
      ],
      "execution_count": null,
      "outputs": []
    },
    {
      "cell_type": "code",
      "metadata": {
        "colab": {
          "base_uri": "https://localhost:8080/",
          "height": 235
        },
        "id": "_TrqmX7r6Scp",
        "outputId": "faa49414-e983-4930-8935-6a499db43fe4"
      },
      "source": [
        "  class_names = ['without_glass', 'with_glass']\n",
        "  con_mat_df = pd.DataFrame(con_mat, index = [i for i in class_names],\n",
        "                    columns = [i for i in class_names])\n",
        "  plt.figure(figsize = (3,3))\n",
        "  sns.heatmap(con_mat_df, annot=True, fmt='g',cmap='Blues')"
      ],
      "execution_count": null,
      "outputs": [
        {
          "output_type": "execute_result",
          "data": {
            "text/plain": [
              "<matplotlib.axes._subplots.AxesSubplot at 0x7fdba8bcc358>"
            ]
          },
          "metadata": {
            "tags": []
          },
          "execution_count": 32
        },
        {
          "output_type": "display_data",
          "data": {
            "image/png": "[encoded data removed]",
            "text/plain": [
              "<Figure size 216x216 with 2 Axes>"
            ]
          },
          "metadata": {
            "tags": [],
            "needs_background": "light"
          }
        }
      ]
    },
    {
      "cell_type": "code",
      "metadata": {
        "colab": {
          "base_uri": "https://localhost:8080/"
        },
        "id": "_sICxvmj6N7p",
        "outputId": "5dba70ca-ca0c-444c-a10c-0f933a3919a6"
      },
      "source": [
        "mse, bias, var = bias_variance_decomp(model, train_img, train_label, test_img, test_label, loss='mse', num_rounds=2, random_seed=1)"
      ],
      "execution_count": null,
      "outputs": [
        {
          "output_type": "stream",
          "text": [
            "284/284 [==============================] - 3s 9ms/step - loss: 0.2985 - accuracy: 0.9388\n",
            "284/284 [==============================] - 3s 10ms/step - loss: 0.8593 - accuracy: 0.9265\n"
          ],
          "name": "stdout"
        }
      ]
    },
    {
      "cell_type": "code",
      "metadata": {
        "colab": {
          "base_uri": "https://localhost:8080/"
        },
        "id": "mt3IBNQjoGrG",
        "outputId": "2ca7bbda-3bdc-4b2a-e6ff-c7c38b4b9c72"
      },
      "source": [
        "mse, bias, var"
      ],
      "execution_count": null,
      "outputs": [
        {
          "output_type": "execute_result",
          "data": {
            "text/plain": [
              "(0.04094620444773299, 0.04079124671315395, 0.00015495773457904042)"
            ]
          },
          "metadata": {
            "tags": []
          },
          "execution_count": 34
        }
      ]
    },
    {
      "cell_type": "code",
      "metadata": {
        "id": "xzy9kuCpAfv9"
      },
      "source": [
        "ConfusionMatrix = collections.namedtuple('conf', ['tp','fp','tn','fn']) \n",
        "conf_mat = ConfusionMatrix(con_mat[0][0], con_mat[1][0], con_mat[1][1],con_mat[0][1] )"
      ],
      "execution_count": null,
      "outputs": []
    },
    {
      "cell_type": "code",
      "metadata": {
        "colab": {
          "base_uri": "https://localhost:8080/"
        },
        "id": "0QYLOmAwBQTr",
        "outputId": "2c360081-ed74-47cd-b811-c80c32b28698"
      },
      "source": [
        "disparate_impact =  (conf_mat.tn / (conf_mat.fp + conf_mat.tn)) /(conf_mat.tp / (conf_mat.tp + conf_mat.fn))\n",
        "disparate_impact"
      ],
      "execution_count": null,
      "outputs": [
        {
          "output_type": "execute_result",
          "data": {
            "text/plain": [
              "0.0"
            ]
          },
          "metadata": {
            "tags": []
          },
          "execution_count": 37
        }
      ]
    },
    {
      "cell_type": "markdown",
      "metadata": {
        "id": "QeaBVMBMan1j"
      },
      "source": [
        "### **New Evaluation Metric**"
      ]
    },
    {
      "cell_type": "markdown",
      "metadata": {
        "id": "faoxkdoqeHVf"
      },
      "source": [
        "I have defined equal opportunity tpr rate which defines the correctly classiied ratio among each class. If tpr rate is equal(50%) in both the then we say that system is having minimum bias."
      ]
    },
    {
      "cell_type": "code",
      "metadata": {
        "colab": {
          "base_uri": "https://localhost:8080/"
        },
        "id": "biyD3bUNc5DU",
        "outputId": "a93b14f5-5500-4525-f100-1148ea6f7aab"
      },
      "source": [
        "Equal_Opr_Rate = abs((conf_mat.tn / (conf_mat.fp + conf_mat.tn))  - (conf_mat.tp / (conf_mat.tp + conf_mat.fn)))\n",
        "Equal_Opr_Rate"
      ],
      "execution_count": null,
      "outputs": [
        {
          "output_type": "execute_result",
          "data": {
            "text/plain": [
              "1.0"
            ]
          },
          "metadata": {
            "tags": []
          },
          "execution_count": 43
        }
      ]
    },
    {
      "cell_type": "markdown",
      "metadata": {
        "id": "p9xorZOuD3P2"
      },
      "source": [
        "### **Bias Mitigation**"
      ]
    },
    {
      "cell_type": "markdown",
      "metadata": {
        "id": "ndjswAmRDCHr"
      },
      "source": [
        "### Part A: Data Method"
      ]
    },
    {
      "cell_type": "code",
      "metadata": {
        "id": "YFIM9A8vDkcT"
      },
      "source": [
        "df_img_65_perc = df_img_wo_se.append(df_final_eyeg_sung)"
      ],
      "execution_count": null,
      "outputs": []
    },
    {
      "cell_type": "code",
      "metadata": {
        "colab": {
          "base_uri": "https://localhost:8080/",
          "height": 419
        },
        "id": "QgvyH1enDkci",
        "outputId": "17972394-a512-4194-de4d-240a34db5028"
      },
      "source": [
        "df_img_65_perc\n"
      ],
      "execution_count": null,
      "outputs": [
        {
          "output_type": "execute_result",
          "data": {
            "text/html": [
              "<div>\n",
              "<style scoped>\n",
              "    .dataframe tbody tr th:only-of-type {\n",
              "        vertical-align: middle;\n",
              "    }\n",
              "\n",
              "    .dataframe tbody tr th {\n",
              "        vertical-align: top;\n",
              "    }\n",
              "\n",
              "    .dataframe thead th {\n",
              "        text-align: right;\n",
              "    }\n",
              "</style>\n",
              "<table border=\"1\" class=\"dataframe\">\n",
              "  <thead>\n",
              "    <tr style=\"text-align: right;\">\n",
              "      <th></th>\n",
              "      <th>person</th>\n",
              "      <th>imagenum</th>\n",
              "      <th>images</th>\n",
              "      <th>labels</th>\n",
              "    </tr>\n",
              "  </thead>\n",
              "  <tbody>\n",
              "    <tr>\n",
              "      <th>0</th>\n",
              "      <td>Vadim Strogalev</td>\n",
              "      <td>1</td>\n",
              "      <td>[0.2901960784313726, 0.2901960784313726, 0.290...</td>\n",
              "      <td>0</td>\n",
              "    </tr>\n",
              "    <tr>\n",
              "      <th>1</th>\n",
              "      <td>Tony Parker</td>\n",
              "      <td>1</td>\n",
              "      <td>[0.0, 0.0, 0.0, 0.0, 0.0, 0.0, 0.0, 0.0, 0.0, ...</td>\n",
              "      <td>0</td>\n",
              "    </tr>\n",
              "    <tr>\n",
              "      <th>2</th>\n",
              "      <td>Tony Parker</td>\n",
              "      <td>2</td>\n",
              "      <td>[0.37254901960784315, 0.3411764705882353, 0.34...</td>\n",
              "      <td>0</td>\n",
              "    </tr>\n",
              "    <tr>\n",
              "      <th>3</th>\n",
              "      <td>Tyler Hamilton</td>\n",
              "      <td>2</td>\n",
              "      <td>[0.8549019607843137, 0.8549019607843137, 0.827...</td>\n",
              "      <td>0</td>\n",
              "    </tr>\n",
              "    <tr>\n",
              "      <th>4</th>\n",
              "      <td>Tyler Hamilton</td>\n",
              "      <td>1</td>\n",
              "      <td>[0.40784313725490196, 0.39215686274509803, 0.3...</td>\n",
              "      <td>0</td>\n",
              "    </tr>\n",
              "    <tr>\n",
              "      <th>...</th>\n",
              "      <td>...</td>\n",
              "      <td>...</td>\n",
              "      <td>...</td>\n",
              "      <td>...</td>\n",
              "    </tr>\n",
              "    <tr>\n",
              "      <th>13066</th>\n",
              "      <td>Suh Young-hoon</td>\n",
              "      <td>1</td>\n",
              "      <td>[0.0, 0.0, 0.0, 0.0, 0.0, 0.0, 0.0, 0.0, 0.0, ...</td>\n",
              "      <td>1</td>\n",
              "    </tr>\n",
              "    <tr>\n",
              "      <th>13116</th>\n",
              "      <td>Jean-David Levitte</td>\n",
              "      <td>8</td>\n",
              "      <td>[0.23137254901960785, 0.23137254901960785, 0.2...</td>\n",
              "      <td>1</td>\n",
              "    </tr>\n",
              "    <tr>\n",
              "      <th>13145</th>\n",
              "      <td>Richard Gere</td>\n",
              "      <td>3</td>\n",
              "      <td>[0.0, 0.0, 0.0, 0.0, 0.0, 0.0, 0.0, 0.0, 0.0, ...</td>\n",
              "      <td>1</td>\n",
              "    </tr>\n",
              "    <tr>\n",
              "      <th>13165</th>\n",
              "      <td>Jimmy Jimenez</td>\n",
              "      <td>1</td>\n",
              "      <td>[0.8549019607843137, 0.8509803921568627, 0.858...</td>\n",
              "      <td>1</td>\n",
              "    </tr>\n",
              "    <tr>\n",
              "      <th>13169</th>\n",
              "      <td>Danny Elfman</td>\n",
              "      <td>1</td>\n",
              "      <td>[0.0, 0.0, 0.0, 0.0, 0.0, 0.0, 0.0, 0.0, 0.0, ...</td>\n",
              "      <td>1</td>\n",
              "    </tr>\n",
              "  </tbody>\n",
              "</table>\n",
              "<p>13233 rows × 4 columns</p>\n",
              "</div>"
            ],
            "text/plain": [
              "                   person  ... labels\n",
              "0         Vadim Strogalev  ...      0\n",
              "1             Tony Parker  ...      0\n",
              "2             Tony Parker  ...      0\n",
              "3          Tyler Hamilton  ...      0\n",
              "4          Tyler Hamilton  ...      0\n",
              "...                   ...  ...    ...\n",
              "13066      Suh Young-hoon  ...      1\n",
              "13116  Jean-David Levitte  ...      1\n",
              "13145        Richard Gere  ...      1\n",
              "13165       Jimmy Jimenez  ...      1\n",
              "13169        Danny Elfman  ...      1\n",
              "\n",
              "[13233 rows x 4 columns]"
            ]
          },
          "metadata": {
            "tags": []
          },
          "execution_count": 45
        }
      ]
    },
    {
      "cell_type": "code",
      "metadata": {
        "id": "XLDqo6qmDkcj"
      },
      "source": [
        "class_names = ['without glasses','glasses']"
      ],
      "execution_count": null,
      "outputs": []
    },
    {
      "cell_type": "code",
      "metadata": {
        "id": "TVJlGK75Dkck"
      },
      "source": [
        "images = np.array(list(df_img_65_perc[\"images\"].values))\n",
        "labels = np.array(list(df_img_65_perc[\"labels\"].values))"
      ],
      "execution_count": null,
      "outputs": []
    },
    {
      "cell_type": "code",
      "metadata": {
        "colab": {
          "base_uri": "https://localhost:8080/",
          "height": 139
        },
        "id": "PsUbekzCDkck",
        "outputId": "fd26c877-df00-4dca-96c7-83bbc0332ab5"
      },
      "source": [
        "plt.figure(figsize=(10,10))\n",
        "for i in range(4):\n",
        "    plt.subplot(5,5,i+1)\n",
        "    plt.xticks([])\n",
        "    plt.yticks([])\n",
        "    plt.grid(False)\n",
        "    two_d = (np.reshape(images[i+12392], (100, 100)) * 255).astype(np.uint8)\n",
        "    plt.imshow(two_d)\n",
        "    plt.xlabel(class_names[labels[i+12392]])\n",
        "plt.show()"
      ],
      "execution_count": null,
      "outputs": [
        {
          "output_type": "display_data",
          "data": {
            "image/png": "[encoded data removed]",
            "text/plain": [
              "<Figure size 720x720 with 4 Axes>"
            ]
          },
          "metadata": {
            "tags": []
          }
        }
      ]
    },
    {
      "cell_type": "code",
      "metadata": {
        "colab": {
          "base_uri": "https://localhost:8080/"
        },
        "id": "k-suWxKrDkcl",
        "outputId": "51cc528c-c3f5-4a4b-972c-d60181e87efc"
      },
      "source": [
        "# Prepare Classifier Training and Testing Data\n",
        "print('\\nPreparing Classifier Training and Testing Data...')\n",
        "train_img, test_img, train_label, test_label = model_selection.train_test_split(images,labels,test_size=0.3)"
      ],
      "execution_count": null,
      "outputs": [
        {
          "output_type": "stream",
          "text": [
            "\n",
            "Preparing Classifier Training and Testing Data...\n"
          ],
          "name": "stdout"
        }
      ]
    },
    {
      "cell_type": "code",
      "metadata": {
        "id": "NcFQMF6TDkcm"
      },
      "source": [
        "callback = tf.keras.callbacks.EarlyStopping(monitor='loss', patience=3)\n",
        "model = keras.Sequential([\n",
        "    #keras.layers.Flatten(input_shape=(28,28)),\n",
        "    keras.layers.Dense(128, activation=tf.nn.relu),\n",
        "    keras.layers.Dense(128, activation=tf.nn.relu),\n",
        "    keras.layers.Dense(128, activation=tf.nn.relu),\n",
        "    keras.layers.Dense(64, activation=tf.nn.relu),\n",
        "    keras.layers.Dense(1, activation='linear')\n",
        "])\n",
        "\n",
        "model.compile(optimizer='adam', \n",
        "              loss='mse',#'sparse_categorical_crossentropy',\n",
        "              metrics=['accuracy'])\n"
      ],
      "execution_count": null,
      "outputs": []
    },
    {
      "cell_type": "code",
      "metadata": {
        "colab": {
          "base_uri": "https://localhost:8080/"
        },
        "id": "xcWElKzUDkcm",
        "outputId": "7813bf37-36a5-4e29-ab43-3ad9cf2c7cff"
      },
      "source": [
        "model.fit(train_img, train_label, epochs=500,callbacks=[callback])"
      ],
      "execution_count": null,
      "outputs": [
        {
          "output_type": "stream",
          "text": [
            "Epoch 1/500\n",
            "290/290 [==============================] - 3s 9ms/step - loss: 0.4364 - accuracy: 0.8966\n",
            "Epoch 2/500\n",
            "290/290 [==============================] - 3s 10ms/step - loss: 0.0707 - accuracy: 0.9330\n",
            "Epoch 3/500\n",
            "290/290 [==============================] - 3s 9ms/step - loss: 0.0656 - accuracy: 0.9354\n",
            "Epoch 4/500\n",
            "290/290 [==============================] - 3s 9ms/step - loss: 0.0655 - accuracy: 0.9303\n",
            "Epoch 5/500\n",
            "290/290 [==============================] - 3s 9ms/step - loss: 0.0616 - accuracy: 0.9338\n",
            "Epoch 6/500\n",
            "290/290 [==============================] - 3s 10ms/step - loss: 0.0651 - accuracy: 0.9311\n",
            "Epoch 7/500\n",
            "290/290 [==============================] - 3s 10ms/step - loss: 0.0590 - accuracy: 0.9360\n",
            "Epoch 8/500\n",
            "290/290 [==============================] - 3s 10ms/step - loss: 0.0605 - accuracy: 0.9337\n",
            "Epoch 9/500\n",
            "290/290 [==============================] - 3s 9ms/step - loss: 0.0647 - accuracy: 0.9302\n",
            "Epoch 10/500\n",
            "290/290 [==============================] - 3s 10ms/step - loss: 0.0586 - accuracy: 0.9363\n"
          ],
          "name": "stdout"
        },
        {
          "output_type": "execute_result",
          "data": {
            "text/plain": [
              "<tensorflow.python.keras.callbacks.History at 0x7fdb9c0d36d8>"
            ]
          },
          "metadata": {
            "tags": []
          },
          "execution_count": 51
        }
      ]
    },
    {
      "cell_type": "code",
      "metadata": {
        "colab": {
          "base_uri": "https://localhost:8080/"
        },
        "id": "OzEOhC_jDkcn",
        "outputId": "468784ce-5b98-446e-b8f3-14a31344c185"
      },
      "source": [
        "test_loss, test_acc = model.evaluate(test_img, test_label)\n",
        "\n",
        "print('Test accuracy:', test_acc)"
      ],
      "execution_count": null,
      "outputs": [
        {
          "output_type": "stream",
          "text": [
            "125/125 [==============================] - 0s 3ms/step - loss: 0.0550 - accuracy: 0.9428\n",
            "Test accuracy: 0.9428211450576782\n"
          ],
          "name": "stdout"
        }
      ]
    },
    {
      "cell_type": "code",
      "metadata": {
        "colab": {
          "base_uri": "https://localhost:8080/"
        },
        "id": "mDF1u-vVDkcn",
        "outputId": "31e78c8c-6b4b-4531-eab8-6f5b5620cb42"
      },
      "source": [
        "pred_test_labels_prob = model.predict_classes(test_img)"
      ],
      "execution_count": null,
      "outputs": [
        {
          "output_type": "stream",
          "text": [
            "/usr/local/lib/python3.6/dist-packages/tensorflow/python/keras/engine/sequential.py:450: UserWarning: `model.predict_classes()` is deprecated and will be removed after 2021-01-01. Please use instead:* `np.argmax(model.predict(x), axis=-1)`,   if your model does multi-class classification   (e.g. if it uses a `softmax` last-layer activation).* `(model.predict(x) > 0.5).astype(\"int32\")`,   if your model does binary classification   (e.g. if it uses a `sigmoid` last-layer activation).\n",
            "  warnings.warn('`model.predict_classes()` is deprecated and '\n"
          ],
          "name": "stderr"
        }
      ]
    },
    {
      "cell_type": "code",
      "metadata": {
        "id": "ETytrSaRFxrp"
      },
      "source": [
        "# [i for i,val in enumerate(list(test_label)) if val==1]\n",
        "# pred_test_labels = np.where(pred_test_labels_prob>.1,1,0)"
      ],
      "execution_count": null,
      "outputs": []
    },
    {
      "cell_type": "code",
      "metadata": {
        "id": "AqRraazODkco"
      },
      "source": [
        "con_mat = np.zeros((2,2))\n",
        "for i in range(len(test_label)):\n",
        "  con_mat[test_label[i]][pred_test_labels_prob[i]] += 1"
      ],
      "execution_count": null,
      "outputs": []
    },
    {
      "cell_type": "code",
      "metadata": {
        "colab": {
          "base_uri": "https://localhost:8080/",
          "height": 235
        },
        "id": "bJ7R4k6pDkco",
        "outputId": "624087f4-a341-4301-ea48-fa02b029537c"
      },
      "source": [
        "class_names = ['with_glass', 'without_glass']\n",
        "con_mat_df = pd.DataFrame(con_mat, index = [i for i in class_names],\n",
        "                  columns = [i for i in class_names])\n",
        "plt.figure(figsize = (3,3))\n",
        "sns.heatmap(con_mat_df, annot=True, fmt='g',cmap='Blues')"
      ],
      "execution_count": null,
      "outputs": [
        {
          "output_type": "execute_result",
          "data": {
            "text/plain": [
              "<matplotlib.axes._subplots.AxesSubplot at 0x7fdb9fad47b8>"
            ]
          },
          "metadata": {
            "tags": []
          },
          "execution_count": 56
        },
        {
          "output_type": "display_data",
          "data": {
            "image/png": "[encoded data removed]",
            "text/plain": [
              "<Figure size 216x216 with 2 Axes>"
            ]
          },
          "metadata": {
            "tags": [],
            "needs_background": "light"
          }
        }
      ]
    },
    {
      "cell_type": "code",
      "metadata": {
        "colab": {
          "base_uri": "https://localhost:8080/"
        },
        "id": "LMzpX_uxDkcp",
        "outputId": "b105b2c3-e8b5-45d7-d343-29c650094110"
      },
      "source": [
        "mse, bias, var = bias_variance_decomp(model, train_img, train_label, test_img, test_label, loss='mse', num_rounds=2, random_seed=1)"
      ],
      "execution_count": null,
      "outputs": [
        {
          "output_type": "stream",
          "text": [
            "290/290 [==============================] - 3s 9ms/step - loss: 1.0204 - accuracy: 0.8917\n",
            "290/290 [==============================] - 3s 9ms/step - loss: 0.3970 - accuracy: 0.8978\n"
          ],
          "name": "stdout"
        }
      ]
    },
    {
      "cell_type": "code",
      "metadata": {
        "colab": {
          "base_uri": "https://localhost:8080/"
        },
        "id": "eACcMwENDkcp",
        "outputId": "d8e24be5-760a-4538-a3d3-4290298e9e1d"
      },
      "source": [
        "mse, bias, var"
      ],
      "execution_count": null,
      "outputs": [
        {
          "output_type": "execute_result",
          "data": {
            "text/plain": [
              "(0.05494612086570262, 0.05401798216975117, 0.0009281386959514491)"
            ]
          },
          "metadata": {
            "tags": []
          },
          "execution_count": 58
        }
      ]
    },
    {
      "cell_type": "code",
      "metadata": {
        "id": "bjL1cMOoDkcq"
      },
      "source": [
        "ConfusionMatrix = collections.namedtuple('conf', ['tp','fp','tn','fn']) \n",
        "conf_mat = ConfusionMatrix(con_mat[0][0], con_mat[1][0], con_mat[0][1], con_mat[1][1])"
      ],
      "execution_count": null,
      "outputs": []
    },
    {
      "cell_type": "code",
      "metadata": {
        "colab": {
          "base_uri": "https://localhost:8080/"
        },
        "id": "vX27iOqmDkcq",
        "outputId": "2f50af2e-4aff-4977-f743-910c9c405690"
      },
      "source": [
        "disparate_impact =  (conf_mat.tn / (conf_mat.fp + conf_mat.tn)) /(conf_mat.tp / (conf_mat.tp + conf_mat.fn))\n",
        "disparate_impact"
      ],
      "execution_count": null,
      "outputs": [
        {
          "output_type": "execute_result",
          "data": {
            "text/plain": [
              "0.0"
            ]
          },
          "metadata": {
            "tags": []
          },
          "execution_count": 61
        }
      ]
    },
    {
      "cell_type": "code",
      "metadata": {
        "colab": {
          "base_uri": "https://localhost:8080/"
        },
        "id": "n7fTeZoTdK1Z",
        "outputId": "fd3143a8-b74a-4aef-ce18-888c2e2f10b8"
      },
      "source": [
        "Equal_Opr_Rate = abs((conf_mat.tn / (conf_mat.fp + conf_mat.tn))  - (conf_mat.tp / (conf_mat.tp + conf_mat.fn)))\n",
        "Equal_Opr_Rate"
      ],
      "execution_count": null,
      "outputs": [
        {
          "output_type": "execute_result",
          "data": {
            "text/plain": [
              "1.0"
            ]
          },
          "metadata": {
            "tags": []
          },
          "execution_count": 62
        }
      ]
    },
    {
      "cell_type": "markdown",
      "metadata": {
        "id": "0e2MjxSJGgHP"
      },
      "source": [
        "### **Part B: Algorithmic Method**"
      ]
    },
    {
      "cell_type": "code",
      "metadata": {
        "colab": {
          "base_uri": "https://localhost:8080/"
        },
        "id": "wgXGnt5kGw_M",
        "outputId": "66918bc6-c778-45fd-b713-dcaaf3b8fafe"
      },
      "source": [
        "# Prepare Classifier Training and Testing Data\n",
        "print('\\nPreparing Classifier Training and Testing Data...')\n",
        "train_img, test_img, train_label, test_label = model_selection.train_test_split(images,labels,test_size=0.3)"
      ],
      "execution_count": null,
      "outputs": [
        {
          "output_type": "stream",
          "text": [
            "\n",
            "Preparing Classifier Training and Testing Data...\n"
          ],
          "name": "stdout"
        }
      ]
    },
    {
      "cell_type": "code",
      "metadata": {
        "id": "lE12zQQIGw_p"
      },
      "source": [
        "callback = tf.keras.callbacks.EarlyStopping(monitor='loss', patience=3)\n",
        "model = keras.Sequential([\n",
        "    #keras.layers.Flatten(input_shape=(28,28)),\n",
        "    keras.layers.Dense(128, activation=tf.nn.relu),\n",
        "    keras.layers.Dense(128, activation=tf.nn.relu),\n",
        "    keras.layers.Dense(128, activation=tf.nn.relu),\n",
        "    keras.layers.Dense(64, activation=tf.nn.relu),\n",
        "    keras.layers.Dense(1, activation=tf.nn.sigmoid)\n",
        "])\n",
        "\n",
        "model.compile(optimizer='adam', \n",
        "              loss='binary_crossentropy',#'sparse_categorical_crossentropy',\n",
        "              metrics=['accuracy'])\n"
      ],
      "execution_count": null,
      "outputs": []
    },
    {
      "cell_type": "code",
      "metadata": {
        "colab": {
          "base_uri": "https://localhost:8080/"
        },
        "id": "RfSWFEu4Gw_q",
        "outputId": "a0301cb5-d752-4b8c-80da-dba61e9ef534"
      },
      "source": [
        "model.fit(train_img, train_label, epochs=500,callbacks=[callback])"
      ],
      "execution_count": null,
      "outputs": [
        {
          "output_type": "stream",
          "text": [
            "Epoch 1/500\n",
            "290/290 [==============================] - 3s 9ms/step - loss: 0.2685 - accuracy: 0.9344\n",
            "Epoch 2/500\n",
            "290/290 [==============================] - 3s 9ms/step - loss: 0.2479 - accuracy: 0.9345\n",
            "Epoch 3/500\n",
            "290/290 [==============================] - 3s 9ms/step - loss: 0.2315 - accuracy: 0.9377\n",
            "Epoch 4/500\n",
            "290/290 [==============================] - 3s 9ms/step - loss: 0.2406 - accuracy: 0.9332\n",
            "Epoch 5/500\n",
            "290/290 [==============================] - 3s 9ms/step - loss: 0.2301 - accuracy: 0.9370\n",
            "Epoch 6/500\n",
            "290/290 [==============================] - 3s 10ms/step - loss: 0.2219 - accuracy: 0.9350\n",
            "Epoch 7/500\n",
            "290/290 [==============================] - 3s 9ms/step - loss: 0.2408 - accuracy: 0.9280\n",
            "Epoch 8/500\n",
            "290/290 [==============================] - 3s 10ms/step - loss: 0.1971 - accuracy: 0.9429\n",
            "Epoch 9/500\n",
            "290/290 [==============================] - 3s 9ms/step - loss: 0.2021 - accuracy: 0.9405\n",
            "Epoch 10/500\n",
            "290/290 [==============================] - 3s 9ms/step - loss: 0.2020 - accuracy: 0.9383\n",
            "Epoch 11/500\n",
            "290/290 [==============================] - 3s 10ms/step - loss: 0.2069 - accuracy: 0.9364\n",
            "Epoch 12/500\n",
            "290/290 [==============================] - 3s 9ms/step - loss: 0.2112 - accuracy: 0.9340\n",
            "Epoch 13/500\n",
            "290/290 [==============================] - 3s 9ms/step - loss: 0.2022 - accuracy: 0.9356\n",
            "Epoch 14/500\n",
            "290/290 [==============================] - 3s 10ms/step - loss: 0.1968 - accuracy: 0.9373\n",
            "Epoch 15/500\n",
            "290/290 [==============================] - 3s 10ms/step - loss: 0.1925 - accuracy: 0.9372\n",
            "Epoch 16/500\n",
            "290/290 [==============================] - 3s 10ms/step - loss: 0.1917 - accuracy: 0.9349\n",
            "Epoch 17/500\n",
            "290/290 [==============================] - 3s 10ms/step - loss: 0.1972 - accuracy: 0.9368\n",
            "Epoch 18/500\n",
            "290/290 [==============================] - 3s 9ms/step - loss: 0.1915 - accuracy: 0.9361\n",
            "Epoch 19/500\n",
            "290/290 [==============================] - 3s 9ms/step - loss: 0.1904 - accuracy: 0.9372\n",
            "Epoch 20/500\n",
            "290/290 [==============================] - 3s 10ms/step - loss: 0.1871 - accuracy: 0.9354\n",
            "Epoch 21/500\n",
            "290/290 [==============================] - 3s 9ms/step - loss: 0.1916 - accuracy: 0.9365\n",
            "Epoch 22/500\n",
            "290/290 [==============================] - 3s 9ms/step - loss: 0.1854 - accuracy: 0.9377\n",
            "Epoch 23/500\n",
            "290/290 [==============================] - 3s 9ms/step - loss: 0.1804 - accuracy: 0.9388\n",
            "Epoch 24/500\n",
            "290/290 [==============================] - 3s 9ms/step - loss: 0.1694 - accuracy: 0.9438\n",
            "Epoch 25/500\n",
            "290/290 [==============================] - 3s 9ms/step - loss: 0.1740 - accuracy: 0.9422\n",
            "Epoch 26/500\n",
            "290/290 [==============================] - 3s 9ms/step - loss: 0.1745 - accuracy: 0.9378\n",
            "Epoch 27/500\n",
            "290/290 [==============================] - 3s 10ms/step - loss: 0.1639 - accuracy: 0.9451\n",
            "Epoch 28/500\n",
            "290/290 [==============================] - 3s 9ms/step - loss: 0.1696 - accuracy: 0.9417\n",
            "Epoch 29/500\n",
            "290/290 [==============================] - 3s 9ms/step - loss: 0.1581 - accuracy: 0.9438\n",
            "Epoch 30/500\n",
            "290/290 [==============================] - 3s 9ms/step - loss: 0.1580 - accuracy: 0.9437\n",
            "Epoch 31/500\n",
            "290/290 [==============================] - 3s 10ms/step - loss: 0.1708 - accuracy: 0.9419\n",
            "Epoch 32/500\n",
            "290/290 [==============================] - 3s 9ms/step - loss: 0.1619 - accuracy: 0.9410\n",
            "Epoch 33/500\n",
            "290/290 [==============================] - 3s 9ms/step - loss: 0.1543 - accuracy: 0.9450\n",
            "Epoch 34/500\n",
            "290/290 [==============================] - 3s 10ms/step - loss: 0.1687 - accuracy: 0.9431\n",
            "Epoch 35/500\n",
            "290/290 [==============================] - 3s 10ms/step - loss: 0.1615 - accuracy: 0.9465\n",
            "Epoch 36/500\n",
            "290/290 [==============================] - 3s 10ms/step - loss: 0.1471 - accuracy: 0.9481\n",
            "Epoch 37/500\n",
            "290/290 [==============================] - 3s 10ms/step - loss: 0.1502 - accuracy: 0.9496\n",
            "Epoch 38/500\n",
            "290/290 [==============================] - 3s 10ms/step - loss: 0.1545 - accuracy: 0.9464\n",
            "Epoch 39/500\n",
            "290/290 [==============================] - 3s 10ms/step - loss: 0.1749 - accuracy: 0.9456\n",
            "Epoch 40/500\n",
            "290/290 [==============================] - 3s 9ms/step - loss: 0.1405 - accuracy: 0.9488\n",
            "Epoch 41/500\n",
            "290/290 [==============================] - 3s 9ms/step - loss: 0.1556 - accuracy: 0.9474\n",
            "Epoch 42/500\n",
            "290/290 [==============================] - 3s 10ms/step - loss: 0.1623 - accuracy: 0.9412\n",
            "Epoch 43/500\n",
            "290/290 [==============================] - 3s 9ms/step - loss: 0.1388 - accuracy: 0.9534\n",
            "Epoch 44/500\n",
            "290/290 [==============================] - 3s 9ms/step - loss: 0.1431 - accuracy: 0.9494\n",
            "Epoch 45/500\n",
            "290/290 [==============================] - 3s 10ms/step - loss: 0.1432 - accuracy: 0.9510\n",
            "Epoch 46/500\n",
            "290/290 [==============================] - 3s 10ms/step - loss: 0.1358 - accuracy: 0.9528\n",
            "Epoch 47/500\n",
            "290/290 [==============================] - 3s 9ms/step - loss: 0.1376 - accuracy: 0.9526\n",
            "Epoch 48/500\n",
            "290/290 [==============================] - 3s 10ms/step - loss: 0.1379 - accuracy: 0.9532\n",
            "Epoch 49/500\n",
            "290/290 [==============================] - 3s 10ms/step - loss: 0.1297 - accuracy: 0.9538\n",
            "Epoch 50/500\n",
            "290/290 [==============================] - 3s 10ms/step - loss: 0.1418 - accuracy: 0.9504\n",
            "Epoch 51/500\n",
            "290/290 [==============================] - 3s 9ms/step - loss: 0.1300 - accuracy: 0.9525\n",
            "Epoch 52/500\n",
            "290/290 [==============================] - 3s 9ms/step - loss: 0.1300 - accuracy: 0.9550\n",
            "Epoch 53/500\n",
            "290/290 [==============================] - 3s 9ms/step - loss: 0.1393 - accuracy: 0.9498\n",
            "Epoch 54/500\n",
            "290/290 [==============================] - 3s 10ms/step - loss: 0.1170 - accuracy: 0.9604\n",
            "Epoch 55/500\n",
            "290/290 [==============================] - 3s 9ms/step - loss: 0.1433 - accuracy: 0.9491\n",
            "Epoch 56/500\n",
            "290/290 [==============================] - 3s 10ms/step - loss: 0.1239 - accuracy: 0.9591\n",
            "Epoch 57/500\n",
            "290/290 [==============================] - 3s 9ms/step - loss: 0.1198 - accuracy: 0.9575\n",
            "Epoch 58/500\n",
            "290/290 [==============================] - 3s 10ms/step - loss: 0.1334 - accuracy: 0.9538\n",
            "Epoch 59/500\n",
            "290/290 [==============================] - 3s 10ms/step - loss: 0.1240 - accuracy: 0.9559\n"
          ],
          "name": "stdout"
        },
        {
          "output_type": "execute_result",
          "data": {
            "text/plain": [
              "<tensorflow.python.keras.callbacks.History at 0x7fdb9a5f91d0>"
            ]
          },
          "metadata": {
            "tags": []
          },
          "execution_count": 65
        }
      ]
    },
    {
      "cell_type": "code",
      "metadata": {
        "colab": {
          "base_uri": "https://localhost:8080/"
        },
        "id": "xZM5Py7NGw_s",
        "outputId": "2f243fbf-03f1-4036-edb5-0132434a7d7c"
      },
      "source": [
        "test_loss, test_acc = model.evaluate(test_img, test_label)\n",
        "\n",
        "print('Test accuracy:', test_acc)"
      ],
      "execution_count": null,
      "outputs": [
        {
          "output_type": "stream",
          "text": [
            "125/125 [==============================] - 1s 3ms/step - loss: 0.2579 - accuracy: 0.9113\n",
            "Test accuracy: 0.9113349914550781\n"
          ],
          "name": "stdout"
        }
      ]
    },
    {
      "cell_type": "code",
      "metadata": {
        "colab": {
          "base_uri": "https://localhost:8080/"
        },
        "id": "27MKD03GGw_u",
        "outputId": "01b26f6f-4e0c-4ee9-f395-8f6d182ec6e5"
      },
      "source": [
        "pred_test_labels_prob = model.predict_classes(test_img)"
      ],
      "execution_count": null,
      "outputs": [
        {
          "output_type": "stream",
          "text": [
            "/usr/local/lib/python3.6/dist-packages/tensorflow/python/keras/engine/sequential.py:450: UserWarning: `model.predict_classes()` is deprecated and will be removed after 2021-01-01. Please use instead:* `np.argmax(model.predict(x), axis=-1)`,   if your model does multi-class classification   (e.g. if it uses a `softmax` last-layer activation).* `(model.predict(x) > 0.5).astype(\"int32\")`,   if your model does binary classification   (e.g. if it uses a `sigmoid` last-layer activation).\n",
            "  warnings.warn('`model.predict_classes()` is deprecated and '\n"
          ],
          "name": "stderr"
        }
      ]
    },
    {
      "cell_type": "code",
      "metadata": {
        "id": "3sQkqNUiGw_w"
      },
      "source": [
        "# [i for i,val in enumerate(list(test_label)) if val==1]\n",
        "# pred_test_labels = np.where(pred_test_labels_prob>.1,1,0)"
      ],
      "execution_count": null,
      "outputs": []
    },
    {
      "cell_type": "code",
      "metadata": {
        "id": "2ZSOmP_8Gw_x"
      },
      "source": [
        "con_mat = np.zeros((2,2))\n",
        "for i in range(len(test_label)):\n",
        "  con_mat[test_label[i]][pred_test_labels_prob[i]] += 1"
      ],
      "execution_count": null,
      "outputs": []
    },
    {
      "cell_type": "code",
      "metadata": {
        "colab": {
          "base_uri": "https://localhost:8080/",
          "height": 236
        },
        "id": "a0_kJL5tGw_y",
        "outputId": "9b6ac997-4980-40df-f9b4-0c9c091ae362"
      },
      "source": [
        "class_names = ['with_glass', 'without_glass']\n",
        "con_mat_df = pd.DataFrame(con_mat, index = [i for i in class_names],\n",
        "                  columns = [i for i in class_names])\n",
        "plt.figure(figsize = (3,3))\n",
        "sns.heatmap(con_mat_df, annot=True, fmt='g',cmap='Blues')"
      ],
      "execution_count": null,
      "outputs": [
        {
          "output_type": "execute_result",
          "data": {
            "text/plain": [
              "<matplotlib.axes._subplots.AxesSubplot at 0x7fdb9a6ec898>"
            ]
          },
          "metadata": {
            "tags": []
          },
          "execution_count": 70
        },
        {
          "output_type": "display_data",
          "data": {
            "image/png": "[encoded data removed]",
            "text/plain": [
              "<Figure size 216x216 with 2 Axes>"
            ]
          },
          "metadata": {
            "tags": [],
            "needs_background": "light"
          }
        }
      ]
    },
    {
      "cell_type": "code",
      "metadata": {
        "colab": {
          "base_uri": "https://localhost:8080/"
        },
        "id": "JGG09autGw_z",
        "outputId": "96220438-0278-41ea-b2f7-0ebf5f34c54b"
      },
      "source": [
        "mse, bias, var = bias_variance_decomp(model, train_img, train_label, test_img, test_label, loss='mse', num_rounds=2, random_seed=1)"
      ],
      "execution_count": null,
      "outputs": [
        {
          "output_type": "stream",
          "text": [
            "290/290 [==============================] - 3s 9ms/step - loss: 0.3925 - accuracy: 0.9190\n",
            "290/290 [==============================] - 3s 9ms/step - loss: 0.3752 - accuracy: 0.9237\n"
          ],
          "name": "stdout"
        }
      ]
    },
    {
      "cell_type": "code",
      "metadata": {
        "colab": {
          "base_uri": "https://localhost:8080/"
        },
        "id": "krJOYk7zGw_0",
        "outputId": "62183e6a-30ce-4bb1-8f13-2cd0195efff8"
      },
      "source": [
        "mse, bias, var"
      ],
      "execution_count": null,
      "outputs": [
        {
          "output_type": "execute_result",
          "data": {
            "text/plain": [
              "(0.059358127269153016, 0.05911346562248629, 0.00024466164666672057)"
            ]
          },
          "metadata": {
            "tags": []
          },
          "execution_count": 72
        }
      ]
    },
    {
      "cell_type": "code",
      "metadata": {
        "id": "QulMYIG3Gw_0"
      },
      "source": [
        "ConfusionMatrix = collections.namedtuple('conf', ['tp','fp','tn','fn']) \n",
        "conf_mat = ConfusionMatrix(con_mat[0][0], con_mat[1][0], con_mat[0][1], con_mat[1][1])"
      ],
      "execution_count": null,
      "outputs": []
    },
    {
      "cell_type": "code",
      "metadata": {
        "colab": {
          "base_uri": "https://localhost:8080/"
        },
        "id": "bj2xlxDfGw_2",
        "outputId": "0aa841eb-4959-497d-f70e-6219b8e72d50"
      },
      "source": [
        "disparate_impact =  (conf_mat.tn / (conf_mat.fp + conf_mat.tn)) /(conf_mat.tp / (conf_mat.tp + conf_mat.fn))\n",
        "disparate_impact"
      ],
      "execution_count": null,
      "outputs": [
        {
          "output_type": "execute_result",
          "data": {
            "text/plain": [
              "0.26711423153794905"
            ]
          },
          "metadata": {
            "tags": []
          },
          "execution_count": 75
        }
      ]
    },
    {
      "cell_type": "code",
      "metadata": {
        "colab": {
          "base_uri": "https://localhost:8080/"
        },
        "id": "oCexF1MiINJR",
        "outputId": "8b8e8e92-d1e8-428e-c884-091c19155aed"
      },
      "source": [
        "Equal_Opr_Rate = abs((conf_mat.tn / (conf_mat.fp + conf_mat.tn))  - (conf_mat.tp / (conf_mat.tp + conf_mat.fn)))\n",
        "Equal_Opr_Rate"
      ],
      "execution_count": null,
      "outputs": [
        {
          "output_type": "execute_result",
          "data": {
            "text/plain": [
              "0.6998143719802823"
            ]
          },
          "metadata": {
            "tags": []
          },
          "execution_count": 76
        }
      ]
    },
    {
      "cell_type": "code",
      "metadata": {
        "id": "45UPdzoLdWcv"
      },
      "source": [
        ""
      ],
      "execution_count": null,
      "outputs": []
    }
  ]
}